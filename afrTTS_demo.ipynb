{
 "cells": [
  {
   "cell_type": "markdown",
   "metadata": {
    "id": "vd1Vu8s-oly8"
   },
   "source": [
    "# Afrikaans Text-to-Speech Demo\n",
    "\n",
    "A demonstration notebook for two TTS systems, Naive TTS and G2PxTTS from https://github.com/JulianHerreilers/afrTTS.\n",
    "\n",
    "## Reference:\n",
    "\n",
    "Univoc: https://github.com/bshall/UniversalVocoding\n",
    "\n",
    "Tacotron: https://github.com/bshall/Tacotron/\n"
   ]
  },
  {
   "cell_type": "markdown",
   "metadata": {
    "id": "Tdr0Xq1epOOc"
   },
   "source": [
    "Install the necessary packages:"
   ]
  },
  {
   "cell_type": "code",
   "execution_count": null,
   "metadata": {
    "colab": {
     "base_uri": "https://localhost:8080/"
    },
    "id": "K6BZfOK1htR5",
    "outputId": "a3eec0b7-98da-4784-e007-7d83372a6a2a"
   },
   "outputs": [],
   "source": [
    "!pip install -q omegaconf\n",
    "!pip install -q librosa==0.8.0\n",
    "!pip install -q univoc\n",
    "!pip install -q tacotron\n",
    "!pip install -q torch\n",
    "\n",
    "#There may be some installs I forgot about"
   ]
  },
  {
   "cell_type": "code",
   "execution_count": null,
   "metadata": {
    "colab": {
     "base_uri": "https://localhost:8080/"
    },
    "id": "2Dsy_0WIhvIo",
    "outputId": "09e6279e-4b4b-4192-8895-ad9e4f9a5ec7"
   },
   "outputs": [],
   "source": [
    "import torch\n",
    "import soundfile as sf\n",
    "from univoc import Vocoder\n",
    "from tacotron import text_to_id, Tacotron\n",
    "import matplotlib.pyplot as plt\n",
    "from IPython.display import Audio\n",
    "from tqdm import tqdm as tqdm\n",
    "\n",
    "\n",
    "def load_afrdict(file_name):\n",
    "    \"\"\"Loads the Afr(local) Pronouncing Dictionary\"\"\"\n",
    "\n",
    "    dict_ref = file_name\n",
    "    dict_file = open(dict_ref, 'r')\n",
    "    dict_list = dict_file.readlines()\n",
    "    dict_file.close()\n",
    "    afrdict = {}\n",
    "    for i in range(0, len(dict_list)):\n",
    "        dict_list[i] = dict_list[i].strip().split()\n",
    "        entry = \" \".join([str(word) for word in dict_list[i][1:]])\n",
    "        afrdict[str(dict_list[i][0])] = entry\n",
    "    return afrdict"
   ]
  },
  {
   "cell_type": "markdown",
   "metadata": {},
   "source": [
    "G2P Imports"
   ]
  },
  {
   "cell_type": "code",
   "execution_count": null,
   "metadata": {},
   "outputs": [],
   "source": [
    "import torch\n",
    "import torch.nn as nn\n",
    "from torch import optim\n",
    "import torch.nn.functional as F\n",
    "from torch.utils import data\n",
    "from torch.nn.utils.rnn import pack_padded_sequence\n",
    "from g2pmodel import g2p_model_init as g2p_init\n",
    "from demo_utils import process_text_input"
   ]
  },
  {
   "cell_type": "code",
   "execution_count": null,
   "metadata": {
    "id": "EJKStkw_XTU9"
   },
   "outputs": [],
   "source": [
    "afrdict_rcrl = load_afrdict(\"rcrl_apd.1.4.1.txt\")\n",
    "afrdict_afr_za = load_afrdict(\"afr_za_dict.txt\")\n",
    "afrdict_afr_za[\"boom\"]"
   ]
  },
  {
   "cell_type": "code",
   "execution_count": null,
   "metadata": {},
   "outputs": [],
   "source": [
    "model_name = \"G2P/best_models/G2p-e256h256n2d0.1.pt\"\n",
    "g2p_model =  g2p_init(model_name)\n",
    "g2p_model.load_state_dict(torch.load(model_name))\n",
    "g2p_model.to(\"cuda:0\")"
   ]
  },
  {
   "cell_type": "code",
   "execution_count": null,
   "metadata": {},
   "outputs": [],
   "source": [
    "text = \"142 drie\"\n",
    "process_text_input(g2p_model, afrdict_afr_za, text)"
   ]
  },
  {
   "cell_type": "markdown",
   "metadata": {
    "id": "8xb2f-21nn2Q"
   },
   "source": [
    "Download pretrained weights for the vocoder and move to the GPU"
   ]
  },
  {
   "cell_type": "code",
   "execution_count": null,
   "metadata": {
    "colab": {
     "base_uri": "https://localhost:8080/",
     "height": 66,
     "referenced_widgets": [
      "d0d3986f36084681882a600edee1df65",
      "612f3a54e7834a28b5c69507f0696999",
      "1be770c776914c398dc2b33999fcff3b",
      "a30d2b935bbb4cd8874dc32c62e95161",
      "92cbc0249d50415c815a2bbb9de4ac4e",
      "bcb48111c92a487581e9ab421bb51bd7",
      "08919040b9ef4bfab2961c1ffbd20656",
      "07edf6b18b6f4eaf8e0c6ff1222c0a94",
      "5314e42d951845879772262bbb60dcc3",
      "a6baa535545545e58a9fc89b3fac626f",
      "a2ce6a4fd6004e2e9a63aa8806de577c"
     ]
    },
    "id": "Nv6AS1ZtkRr8",
    "outputId": "26cb16de-2b50-4096-f38b-09330e1c3be5"
   },
   "outputs": [],
   "source": [
    "vocoder = Vocoder.from_pretrained(\n",
    "    \"https://github.com/bshall/UniversalVocoding/releases/download/v0.2/univoc-ljspeech-7mtpaq.pt\"\n",
    ").cuda()"
   ]
  },
  {
   "cell_type": "markdown",
   "metadata": {
    "id": "LJppnjFCnwRh"
   },
   "source": [
    "Download pretrained weights for tacotron - NaiveTTS and G2PxTTS"
   ]
  },
  {
   "cell_type": "code",
   "execution_count": null,
   "metadata": {
    "colab": {
     "base_uri": "https://localhost:8080/",
     "height": 66,
     "referenced_widgets": [
      "f4b64eccfc0744a1ba65a74cc4a92aeb",
      "30a98a3bb9ee473da51afea753517951",
      "59811693a72b455798d8dd6de6725505",
      "6ad4231852684db79694d61f2aa61cc7",
      "671905e3bdee4205983eb0f74f258c97",
      "fcc375224d514051aa840322f7abbdbb",
      "e44b60db7db24210b86ff5891d9359d8",
      "c3b8b9ff32d6456fa73a0bc396042e49",
      "8b05c1d9982b4ab78ae38387c32ca0e7",
      "b86773cce50b4533826cf5b29e422dac",
      "9fe10e2896d84c379ba7e3380f06324d"
     ]
    },
    "id": "Dh9s-8ZDWRf5",
    "outputId": "b6636df9-1ac4-4bb3-8a4e-fb5c9fba74ff"
   },
   "outputs": [],
   "source": [
    "tacotron_naive = Tacotron.from_pretrained(\n",
    "    \"https://github.com/JulianHerreilers/pantoffel_tacotron_models_storage/releases/download/v0.190k-210k-230k-beta/model-230000.pt\"\n",
    ").cuda()\n",
    "\n",
    "tacotron_G2P = Tacotron.from_pretrained(\n",
    "    \"https://github.com/JulianHerreilers/pantoffel_tacotron_models_storage/releases/download/v1.120epoch/model-300000.pt\"\n",
    ").cuda()"
   ]
  },
  {
   "cell_type": "markdown",
   "metadata": {
    "id": "BVfNhClFn25w"
   },
   "source": [
    "Load the CMU pronunciation dictionary and add the pronunciation of \"PyTorch\""
   ]
  },
  {
   "cell_type": "markdown",
   "metadata": {
    "id": "9t9P8M64oCZY"
   },
   "source": [
    "The text to be synthesized:"
   ]
  },
  {
   "cell_type": "code",
   "execution_count": null,
   "metadata": {
    "id": "SB-g3VKgoEW_"
   },
   "outputs": [],
   "source": [
    "text = \"league of legends is great.\" #Used for G2PxTTS which will generate pronunciations for the words if not in dictionary\n",
    "texta = \"wys jou resultate in die tabel.\" #Used for NaiveTTS which will have to remove words if not in dictionary"
   ]
  },
  {
   "cell_type": "markdown",
   "metadata": {
    "id": "miBeiQEXoQCH"
   },
   "source": [
    "Synthesize the audio!"
   ]
  },
  {
   "cell_type": "code",
   "execution_count": null,
   "metadata": {
    "colab": {
     "base_uri": "https://localhost:8080/"
    },
    "id": "mNQJCGnIll2s",
    "outputId": "2bc7372b-3e0e-4020-9384-de7bb7b8eadd"
   },
   "outputs": [],
   "source": [
    "x = torch.LongTensor(text_to_id(texta, afrdict_rcrl)).unsqueeze(0).cuda()\n",
    "with torch.no_grad():\n",
    "    mel_spec, _ = tacotron_naive.generate(x)\n",
    "    wave, sr = vocoder.generate(mel_spec.transpose(1, 2))\n",
    "Audio(wav, rate=sr)"
   ]
  },
  {
   "cell_type": "code",
   "execution_count": null,
   "metadata": {},
   "outputs": [],
   "source": [
    "plt.plot(wav)"
   ]
  },
  {
   "cell_type": "code",
   "execution_count": null,
   "metadata": {},
   "outputs": [],
   "source": [
    "text = process_text_input(g2p_model, afrdict_afr_za, text)\n",
    "x = torch.LongTensor(text_to_id(text, afrdict_afr_za)).unsqueeze(0).cuda()\n",
    "with torch.no_grad():\n",
    "    mel_spec, _ = tacotron_G2P.generate(x)\n",
    "    wave, sr = vocoder.generate(mel_spec.transpose(1, 2))\n",
    "Audio(wave, rate=sr)"
   ]
  }
 ],
 "metadata": {
  "accelerator": "GPU",
  "colab": {
   "collapsed_sections": [],
   "name": "tacotron.ipynb",
   "provenance": []
  },
  "kernelspec": {
   "display_name": "Python 3 (ipykernel)",
   "language": "python",
   "name": "python3"
  },
  "language_info": {
   "codemirror_mode": {
    "name": "ipython",
    "version": 3
   },
   "file_extension": ".py",
   "mimetype": "text/x-python",
   "name": "python",
   "nbconvert_exporter": "python",
   "pygments_lexer": "ipython3",
   "version": "3.8.10"
  },
  "vscode": {
   "interpreter": {
    "hash": "916dbcbb3f70747c44a77c7bcd40155683ae19c65e1c03b4aa3499c5328201f1"
   }
  },
  "widgets": {
   "application/vnd.jupyter.widget-state+json": {
    "07edf6b18b6f4eaf8e0c6ff1222c0a94": {
     "model_module": "@jupyter-widgets/base",
     "model_module_version": "1.2.0",
     "model_name": "LayoutModel",
     "state": {
      "_model_module": "@jupyter-widgets/base",
      "_model_module_version": "1.2.0",
      "_model_name": "LayoutModel",
      "_view_count": null,
      "_view_module": "@jupyter-widgets/base",
      "_view_module_version": "1.2.0",
      "_view_name": "LayoutView",
      "align_content": null,
      "align_items": null,
      "align_self": null,
      "border": null,
      "bottom": null,
      "display": null,
      "flex": null,
      "flex_flow": null,
      "grid_area": null,
      "grid_auto_columns": null,
      "grid_auto_flow": null,
      "grid_auto_rows": null,
      "grid_column": null,
      "grid_gap": null,
      "grid_row": null,
      "grid_template_areas": null,
      "grid_template_columns": null,
      "grid_template_rows": null,
      "height": null,
      "justify_content": null,
      "justify_items": null,
      "left": null,
      "margin": null,
      "max_height": null,
      "max_width": null,
      "min_height": null,
      "min_width": null,
      "object_fit": null,
      "object_position": null,
      "order": null,
      "overflow": null,
      "overflow_x": null,
      "overflow_y": null,
      "padding": null,
      "right": null,
      "top": null,
      "visibility": null,
      "width": null
     }
    },
    "08919040b9ef4bfab2961c1ffbd20656": {
     "model_module": "@jupyter-widgets/controls",
     "model_module_version": "1.5.0",
     "model_name": "DescriptionStyleModel",
     "state": {
      "_model_module": "@jupyter-widgets/controls",
      "_model_module_version": "1.5.0",
      "_model_name": "DescriptionStyleModel",
      "_view_count": null,
      "_view_module": "@jupyter-widgets/base",
      "_view_module_version": "1.2.0",
      "_view_name": "StyleView",
      "description_width": ""
     }
    },
    "1be770c776914c398dc2b33999fcff3b": {
     "model_module": "@jupyter-widgets/controls",
     "model_module_version": "1.5.0",
     "model_name": "FloatProgressModel",
     "state": {
      "_dom_classes": [],
      "_model_module": "@jupyter-widgets/controls",
      "_model_module_version": "1.5.0",
      "_model_name": "FloatProgressModel",
      "_view_count": null,
      "_view_module": "@jupyter-widgets/controls",
      "_view_module_version": "1.5.0",
      "_view_name": "ProgressView",
      "bar_style": "success",
      "description": "",
      "description_tooltip": null,
      "layout": "IPY_MODEL_07edf6b18b6f4eaf8e0c6ff1222c0a94",
      "max": 25917102,
      "min": 0,
      "orientation": "horizontal",
      "style": "IPY_MODEL_5314e42d951845879772262bbb60dcc3",
      "value": 25917102
     }
    },
    "30a98a3bb9ee473da51afea753517951": {
     "model_module": "@jupyter-widgets/controls",
     "model_module_version": "1.5.0",
     "model_name": "HTMLModel",
     "state": {
      "_dom_classes": [],
      "_model_module": "@jupyter-widgets/controls",
      "_model_module_version": "1.5.0",
      "_model_name": "HTMLModel",
      "_view_count": null,
      "_view_module": "@jupyter-widgets/controls",
      "_view_module_version": "1.5.0",
      "_view_name": "HTMLView",
      "description": "",
      "description_tooltip": null,
      "layout": "IPY_MODEL_fcc375224d514051aa840322f7abbdbb",
      "placeholder": "​",
      "style": "IPY_MODEL_e44b60db7db24210b86ff5891d9359d8",
      "value": "100%"
     }
    },
    "5314e42d951845879772262bbb60dcc3": {
     "model_module": "@jupyter-widgets/controls",
     "model_module_version": "1.5.0",
     "model_name": "ProgressStyleModel",
     "state": {
      "_model_module": "@jupyter-widgets/controls",
      "_model_module_version": "1.5.0",
      "_model_name": "ProgressStyleModel",
      "_view_count": null,
      "_view_module": "@jupyter-widgets/base",
      "_view_module_version": "1.2.0",
      "_view_name": "StyleView",
      "bar_color": null,
      "description_width": ""
     }
    },
    "59811693a72b455798d8dd6de6725505": {
     "model_module": "@jupyter-widgets/controls",
     "model_module_version": "1.5.0",
     "model_name": "FloatProgressModel",
     "state": {
      "_dom_classes": [],
      "_model_module": "@jupyter-widgets/controls",
      "_model_module_version": "1.5.0",
      "_model_name": "FloatProgressModel",
      "_view_count": null,
      "_view_module": "@jupyter-widgets/controls",
      "_view_module_version": "1.5.0",
      "_view_name": "ProgressView",
      "bar_style": "success",
      "description": "",
      "description_tooltip": null,
      "layout": "IPY_MODEL_c3b8b9ff32d6456fa73a0bc396042e49",
      "max": 22132797,
      "min": 0,
      "orientation": "horizontal",
      "style": "IPY_MODEL_8b05c1d9982b4ab78ae38387c32ca0e7",
      "value": 22132797
     }
    },
    "612f3a54e7834a28b5c69507f0696999": {
     "model_module": "@jupyter-widgets/controls",
     "model_module_version": "1.5.0",
     "model_name": "HTMLModel",
     "state": {
      "_dom_classes": [],
      "_model_module": "@jupyter-widgets/controls",
      "_model_module_version": "1.5.0",
      "_model_name": "HTMLModel",
      "_view_count": null,
      "_view_module": "@jupyter-widgets/controls",
      "_view_module_version": "1.5.0",
      "_view_name": "HTMLView",
      "description": "",
      "description_tooltip": null,
      "layout": "IPY_MODEL_bcb48111c92a487581e9ab421bb51bd7",
      "placeholder": "​",
      "style": "IPY_MODEL_08919040b9ef4bfab2961c1ffbd20656",
      "value": "100%"
     }
    },
    "671905e3bdee4205983eb0f74f258c97": {
     "model_module": "@jupyter-widgets/base",
     "model_module_version": "1.2.0",
     "model_name": "LayoutModel",
     "state": {
      "_model_module": "@jupyter-widgets/base",
      "_model_module_version": "1.2.0",
      "_model_name": "LayoutModel",
      "_view_count": null,
      "_view_module": "@jupyter-widgets/base",
      "_view_module_version": "1.2.0",
      "_view_name": "LayoutView",
      "align_content": null,
      "align_items": null,
      "align_self": null,
      "border": null,
      "bottom": null,
      "display": null,
      "flex": null,
      "flex_flow": null,
      "grid_area": null,
      "grid_auto_columns": null,
      "grid_auto_flow": null,
      "grid_auto_rows": null,
      "grid_column": null,
      "grid_gap": null,
      "grid_row": null,
      "grid_template_areas": null,
      "grid_template_columns": null,
      "grid_template_rows": null,
      "height": null,
      "justify_content": null,
      "justify_items": null,
      "left": null,
      "margin": null,
      "max_height": null,
      "max_width": null,
      "min_height": null,
      "min_width": null,
      "object_fit": null,
      "object_position": null,
      "order": null,
      "overflow": null,
      "overflow_x": null,
      "overflow_y": null,
      "padding": null,
      "right": null,
      "top": null,
      "visibility": null,
      "width": null
     }
    },
    "6ad4231852684db79694d61f2aa61cc7": {
     "model_module": "@jupyter-widgets/controls",
     "model_module_version": "1.5.0",
     "model_name": "HTMLModel",
     "state": {
      "_dom_classes": [],
      "_model_module": "@jupyter-widgets/controls",
      "_model_module_version": "1.5.0",
      "_model_name": "HTMLModel",
      "_view_count": null,
      "_view_module": "@jupyter-widgets/controls",
      "_view_module_version": "1.5.0",
      "_view_name": "HTMLView",
      "description": "",
      "description_tooltip": null,
      "layout": "IPY_MODEL_b86773cce50b4533826cf5b29e422dac",
      "placeholder": "​",
      "style": "IPY_MODEL_9fe10e2896d84c379ba7e3380f06324d",
      "value": " 21.1M/21.1M [00:00&lt;00:00, 36.6MB/s]"
     }
    },
    "8b05c1d9982b4ab78ae38387c32ca0e7": {
     "model_module": "@jupyter-widgets/controls",
     "model_module_version": "1.5.0",
     "model_name": "ProgressStyleModel",
     "state": {
      "_model_module": "@jupyter-widgets/controls",
      "_model_module_version": "1.5.0",
      "_model_name": "ProgressStyleModel",
      "_view_count": null,
      "_view_module": "@jupyter-widgets/base",
      "_view_module_version": "1.2.0",
      "_view_name": "StyleView",
      "bar_color": null,
      "description_width": ""
     }
    },
    "92cbc0249d50415c815a2bbb9de4ac4e": {
     "model_module": "@jupyter-widgets/base",
     "model_module_version": "1.2.0",
     "model_name": "LayoutModel",
     "state": {
      "_model_module": "@jupyter-widgets/base",
      "_model_module_version": "1.2.0",
      "_model_name": "LayoutModel",
      "_view_count": null,
      "_view_module": "@jupyter-widgets/base",
      "_view_module_version": "1.2.0",
      "_view_name": "LayoutView",
      "align_content": null,
      "align_items": null,
      "align_self": null,
      "border": null,
      "bottom": null,
      "display": null,
      "flex": null,
      "flex_flow": null,
      "grid_area": null,
      "grid_auto_columns": null,
      "grid_auto_flow": null,
      "grid_auto_rows": null,
      "grid_column": null,
      "grid_gap": null,
      "grid_row": null,
      "grid_template_areas": null,
      "grid_template_columns": null,
      "grid_template_rows": null,
      "height": null,
      "justify_content": null,
      "justify_items": null,
      "left": null,
      "margin": null,
      "max_height": null,
      "max_width": null,
      "min_height": null,
      "min_width": null,
      "object_fit": null,
      "object_position": null,
      "order": null,
      "overflow": null,
      "overflow_x": null,
      "overflow_y": null,
      "padding": null,
      "right": null,
      "top": null,
      "visibility": null,
      "width": null
     }
    },
    "9fe10e2896d84c379ba7e3380f06324d": {
     "model_module": "@jupyter-widgets/controls",
     "model_module_version": "1.5.0",
     "model_name": "DescriptionStyleModel",
     "state": {
      "_model_module": "@jupyter-widgets/controls",
      "_model_module_version": "1.5.0",
      "_model_name": "DescriptionStyleModel",
      "_view_count": null,
      "_view_module": "@jupyter-widgets/base",
      "_view_module_version": "1.2.0",
      "_view_name": "StyleView",
      "description_width": ""
     }
    },
    "a2ce6a4fd6004e2e9a63aa8806de577c": {
     "model_module": "@jupyter-widgets/controls",
     "model_module_version": "1.5.0",
     "model_name": "DescriptionStyleModel",
     "state": {
      "_model_module": "@jupyter-widgets/controls",
      "_model_module_version": "1.5.0",
      "_model_name": "DescriptionStyleModel",
      "_view_count": null,
      "_view_module": "@jupyter-widgets/base",
      "_view_module_version": "1.2.0",
      "_view_name": "StyleView",
      "description_width": ""
     }
    },
    "a30d2b935bbb4cd8874dc32c62e95161": {
     "model_module": "@jupyter-widgets/controls",
     "model_module_version": "1.5.0",
     "model_name": "HTMLModel",
     "state": {
      "_dom_classes": [],
      "_model_module": "@jupyter-widgets/controls",
      "_model_module_version": "1.5.0",
      "_model_name": "HTMLModel",
      "_view_count": null,
      "_view_module": "@jupyter-widgets/controls",
      "_view_module_version": "1.5.0",
      "_view_name": "HTMLView",
      "description": "",
      "description_tooltip": null,
      "layout": "IPY_MODEL_a6baa535545545e58a9fc89b3fac626f",
      "placeholder": "​",
      "style": "IPY_MODEL_a2ce6a4fd6004e2e9a63aa8806de577c",
      "value": " 24.7M/24.7M [00:00&lt;00:00, 35.0MB/s]"
     }
    },
    "a6baa535545545e58a9fc89b3fac626f": {
     "model_module": "@jupyter-widgets/base",
     "model_module_version": "1.2.0",
     "model_name": "LayoutModel",
     "state": {
      "_model_module": "@jupyter-widgets/base",
      "_model_module_version": "1.2.0",
      "_model_name": "LayoutModel",
      "_view_count": null,
      "_view_module": "@jupyter-widgets/base",
      "_view_module_version": "1.2.0",
      "_view_name": "LayoutView",
      "align_content": null,
      "align_items": null,
      "align_self": null,
      "border": null,
      "bottom": null,
      "display": null,
      "flex": null,
      "flex_flow": null,
      "grid_area": null,
      "grid_auto_columns": null,
      "grid_auto_flow": null,
      "grid_auto_rows": null,
      "grid_column": null,
      "grid_gap": null,
      "grid_row": null,
      "grid_template_areas": null,
      "grid_template_columns": null,
      "grid_template_rows": null,
      "height": null,
      "justify_content": null,
      "justify_items": null,
      "left": null,
      "margin": null,
      "max_height": null,
      "max_width": null,
      "min_height": null,
      "min_width": null,
      "object_fit": null,
      "object_position": null,
      "order": null,
      "overflow": null,
      "overflow_x": null,
      "overflow_y": null,
      "padding": null,
      "right": null,
      "top": null,
      "visibility": null,
      "width": null
     }
    },
    "b86773cce50b4533826cf5b29e422dac": {
     "model_module": "@jupyter-widgets/base",
     "model_module_version": "1.2.0",
     "model_name": "LayoutModel",
     "state": {
      "_model_module": "@jupyter-widgets/base",
      "_model_module_version": "1.2.0",
      "_model_name": "LayoutModel",
      "_view_count": null,
      "_view_module": "@jupyter-widgets/base",
      "_view_module_version": "1.2.0",
      "_view_name": "LayoutView",
      "align_content": null,
      "align_items": null,
      "align_self": null,
      "border": null,
      "bottom": null,
      "display": null,
      "flex": null,
      "flex_flow": null,
      "grid_area": null,
      "grid_auto_columns": null,
      "grid_auto_flow": null,
      "grid_auto_rows": null,
      "grid_column": null,
      "grid_gap": null,
      "grid_row": null,
      "grid_template_areas": null,
      "grid_template_columns": null,
      "grid_template_rows": null,
      "height": null,
      "justify_content": null,
      "justify_items": null,
      "left": null,
      "margin": null,
      "max_height": null,
      "max_width": null,
      "min_height": null,
      "min_width": null,
      "object_fit": null,
      "object_position": null,
      "order": null,
      "overflow": null,
      "overflow_x": null,
      "overflow_y": null,
      "padding": null,
      "right": null,
      "top": null,
      "visibility": null,
      "width": null
     }
    },
    "bcb48111c92a487581e9ab421bb51bd7": {
     "model_module": "@jupyter-widgets/base",
     "model_module_version": "1.2.0",
     "model_name": "LayoutModel",
     "state": {
      "_model_module": "@jupyter-widgets/base",
      "_model_module_version": "1.2.0",
      "_model_name": "LayoutModel",
      "_view_count": null,
      "_view_module": "@jupyter-widgets/base",
      "_view_module_version": "1.2.0",
      "_view_name": "LayoutView",
      "align_content": null,
      "align_items": null,
      "align_self": null,
      "border": null,
      "bottom": null,
      "display": null,
      "flex": null,
      "flex_flow": null,
      "grid_area": null,
      "grid_auto_columns": null,
      "grid_auto_flow": null,
      "grid_auto_rows": null,
      "grid_column": null,
      "grid_gap": null,
      "grid_row": null,
      "grid_template_areas": null,
      "grid_template_columns": null,
      "grid_template_rows": null,
      "height": null,
      "justify_content": null,
      "justify_items": null,
      "left": null,
      "margin": null,
      "max_height": null,
      "max_width": null,
      "min_height": null,
      "min_width": null,
      "object_fit": null,
      "object_position": null,
      "order": null,
      "overflow": null,
      "overflow_x": null,
      "overflow_y": null,
      "padding": null,
      "right": null,
      "top": null,
      "visibility": null,
      "width": null
     }
    },
    "c3b8b9ff32d6456fa73a0bc396042e49": {
     "model_module": "@jupyter-widgets/base",
     "model_module_version": "1.2.0",
     "model_name": "LayoutModel",
     "state": {
      "_model_module": "@jupyter-widgets/base",
      "_model_module_version": "1.2.0",
      "_model_name": "LayoutModel",
      "_view_count": null,
      "_view_module": "@jupyter-widgets/base",
      "_view_module_version": "1.2.0",
      "_view_name": "LayoutView",
      "align_content": null,
      "align_items": null,
      "align_self": null,
      "border": null,
      "bottom": null,
      "display": null,
      "flex": null,
      "flex_flow": null,
      "grid_area": null,
      "grid_auto_columns": null,
      "grid_auto_flow": null,
      "grid_auto_rows": null,
      "grid_column": null,
      "grid_gap": null,
      "grid_row": null,
      "grid_template_areas": null,
      "grid_template_columns": null,
      "grid_template_rows": null,
      "height": null,
      "justify_content": null,
      "justify_items": null,
      "left": null,
      "margin": null,
      "max_height": null,
      "max_width": null,
      "min_height": null,
      "min_width": null,
      "object_fit": null,
      "object_position": null,
      "order": null,
      "overflow": null,
      "overflow_x": null,
      "overflow_y": null,
      "padding": null,
      "right": null,
      "top": null,
      "visibility": null,
      "width": null
     }
    },
    "d0d3986f36084681882a600edee1df65": {
     "model_module": "@jupyter-widgets/controls",
     "model_module_version": "1.5.0",
     "model_name": "HBoxModel",
     "state": {
      "_dom_classes": [],
      "_model_module": "@jupyter-widgets/controls",
      "_model_module_version": "1.5.0",
      "_model_name": "HBoxModel",
      "_view_count": null,
      "_view_module": "@jupyter-widgets/controls",
      "_view_module_version": "1.5.0",
      "_view_name": "HBoxView",
      "box_style": "",
      "children": [
       "IPY_MODEL_612f3a54e7834a28b5c69507f0696999",
       "IPY_MODEL_1be770c776914c398dc2b33999fcff3b",
       "IPY_MODEL_a30d2b935bbb4cd8874dc32c62e95161"
      ],
      "layout": "IPY_MODEL_92cbc0249d50415c815a2bbb9de4ac4e"
     }
    },
    "e44b60db7db24210b86ff5891d9359d8": {
     "model_module": "@jupyter-widgets/controls",
     "model_module_version": "1.5.0",
     "model_name": "DescriptionStyleModel",
     "state": {
      "_model_module": "@jupyter-widgets/controls",
      "_model_module_version": "1.5.0",
      "_model_name": "DescriptionStyleModel",
      "_view_count": null,
      "_view_module": "@jupyter-widgets/base",
      "_view_module_version": "1.2.0",
      "_view_name": "StyleView",
      "description_width": ""
     }
    },
    "f4b64eccfc0744a1ba65a74cc4a92aeb": {
     "model_module": "@jupyter-widgets/controls",
     "model_module_version": "1.5.0",
     "model_name": "HBoxModel",
     "state": {
      "_dom_classes": [],
      "_model_module": "@jupyter-widgets/controls",
      "_model_module_version": "1.5.0",
      "_model_name": "HBoxModel",
      "_view_count": null,
      "_view_module": "@jupyter-widgets/controls",
      "_view_module_version": "1.5.0",
      "_view_name": "HBoxView",
      "box_style": "",
      "children": [
       "IPY_MODEL_30a98a3bb9ee473da51afea753517951",
       "IPY_MODEL_59811693a72b455798d8dd6de6725505",
       "IPY_MODEL_6ad4231852684db79694d61f2aa61cc7"
      ],
      "layout": "IPY_MODEL_671905e3bdee4205983eb0f74f258c97"
     }
    },
    "fcc375224d514051aa840322f7abbdbb": {
     "model_module": "@jupyter-widgets/base",
     "model_module_version": "1.2.0",
     "model_name": "LayoutModel",
     "state": {
      "_model_module": "@jupyter-widgets/base",
      "_model_module_version": "1.2.0",
      "_model_name": "LayoutModel",
      "_view_count": null,
      "_view_module": "@jupyter-widgets/base",
      "_view_module_version": "1.2.0",
      "_view_name": "LayoutView",
      "align_content": null,
      "align_items": null,
      "align_self": null,
      "border": null,
      "bottom": null,
      "display": null,
      "flex": null,
      "flex_flow": null,
      "grid_area": null,
      "grid_auto_columns": null,
      "grid_auto_flow": null,
      "grid_auto_rows": null,
      "grid_column": null,
      "grid_gap": null,
      "grid_row": null,
      "grid_template_areas": null,
      "grid_template_columns": null,
      "grid_template_rows": null,
      "height": null,
      "justify_content": null,
      "justify_items": null,
      "left": null,
      "margin": null,
      "max_height": null,
      "max_width": null,
      "min_height": null,
      "min_width": null,
      "object_fit": null,
      "object_position": null,
      "order": null,
      "overflow": null,
      "overflow_x": null,
      "overflow_y": null,
      "padding": null,
      "right": null,
      "top": null,
      "visibility": null,
      "width": null
     }
    }
   }
  }
 },
 "nbformat": 4,
 "nbformat_minor": 1
}
