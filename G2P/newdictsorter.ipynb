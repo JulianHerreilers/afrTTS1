{
 "cells": [
  {
   "cell_type": "code",
   "execution_count": 122,
   "metadata": {},
   "outputs": [],
   "source": [
    "from io import open\n",
    "import unicodedata\n",
    "import string\n",
    "import re\n",
    "import random\n",
    "import numpy as np\n",
    "from tqdm import tqdm_notebook as tqdm\n",
    "from distance import levenshtein\n",
    "import os\n",
    "import math\n",
    "import matplotlib.pyplot as plt\n",
    "\n",
    "import torch\n",
    "import torch.nn as nn\n",
    "from torch import optim\n",
    "import torch.nn.functional as F\n",
    "from torch.utils import data\n",
    "from torch.nn.utils.rnn import pack_padded_sequence, pad_packed_sequence\n",
    "import import_ipynb\n",
    "import G2P_LSTM as g2p\n",
    "\n",
    "data_file = 'TTScorpora.tsv'"
   ]
  },
  {
   "cell_type": "code",
   "execution_count": 123,
   "metadata": {},
   "outputs": [],
   "source": [
    "cfg = g2p.cfg\n",
    "def dict_sorting (dict_file_name):\n",
    "    dict_file = open(dict_file_name, 'r')\n",
    "    lines_dict = dict_file.readlines()\n",
    "    dict_file.close()\n",
    "\n",
    "    graphemes = []\n",
    "    phonemes = []\n",
    "\n",
    "    for i in range(0, len(lines_dict)):\n",
    "        lines_dict[i] = lines_dict[i].split()\n",
    "        graphemes.append([*lines_dict[i][0]])\n",
    "        phonemes.append(lines_dict[i][1:])\n",
    "    phonemes = [a for b in phonemes for a in b]\n",
    "    graphemes = [a for b in graphemes for a in b]\n",
    "    graphemes = sorted(set(graphemes))\n",
    "    phonemes = sorted(set(phonemes))\n",
    "    return graphemes, phonemes\n",
    "\n",
    "dict_file_name = cfg.dict_name\n",
    "g_seq, p_seq = dict_sorting(dict_file_name)\n",
    "cfg.graphemes = [\"<pad>\", \"<unk>\", \"</s>\"] + g_seq\n",
    "cfg.phonemes = [\"<pad>\", \"<unk>\", \"<s>\", \"</s>\"] + p_seq\n",
    "\n",
    "#Index to grapheme and phones for vectors\n",
    "cfg.graph2index = {g: idx for idx, g in enumerate(cfg.graphemes)}\n",
    "cfg.index2graph = {idx: g for idx, g in enumerate(cfg.graphemes)}\n",
    "\n",
    "cfg.phone2index = {p: idx for idx, p in enumerate(cfg.phonemes)}\n",
    "cfg.index2phone = {idx: p for idx, p in enumerate(cfg.phonemes)}\n",
    "\n",
    "# print(cfg.graphemes)\n",
    "# print(cfg.phonemes)\n",
    "cfg.g_vocab_size = len(cfg.graphemes)\n",
    "cfg.p_vocab_size = len(cfg.phonemes)\n",
    "# print(cfg.g_vocab_size, cfg.p_vocab_size)\n",
    "# print(cfg.phone2index)\n",
    "# print(cfg.index2phone)"
   ]
  },
  {
   "cell_type": "code",
   "execution_count": 124,
   "metadata": {},
   "outputs": [
    {
     "name": "stdout",
     "output_type": "stream",
     "text": [
      "True\n"
     ]
    }
   ],
   "source": [
    "\n",
    "encoder = g2p.Encoder(cfg.embed_dim, cfg.hidden_dim, cfg.g_vocab_size, cfg.n_layers, cfg.dropout)\n",
    "decoder = g2p.Decoder(cfg.embed_dim, cfg.hidden_dim, cfg.g_vocab_size, cfg.n_layers, cfg.dropout)\n",
    "\n",
    "model = g2p.G2PModel(encoder, decoder, cfg.device)\n",
    "print(torch.cuda.is_available())\n",
    "#model.to(device=cfg.device)"
   ]
  },
  {
   "cell_type": "code",
   "execution_count": 195,
   "metadata": {},
   "outputs": [],
   "source": [
    "def split_nums_letters(seq):\n",
    "\n",
    "    def convert_num_word(num):\n",
    "        nums = ['0','1','2','3','4','5','6','7','8','9','10','11','12','13','14','15','16','17','18','19','20','30','40','50','60','70','80','90','100', '1000']\n",
    "        num_words = ['nul', 'een','twee', 'drie','vier','vyf', 'ses','sewe', 'agt', 'nege','tien','elf','twaalf','dertien','veertien','vyftien','sestien','sewentien', 'agtien', 'negentien', \n",
    "            'twintig','dertig', 'veertig', 'vyftig', 'sestig', 'sewentig', 'tagtig', 'negentig', 'honderd', 'duisend']\n",
    "        a = int(num)\n",
    "        ans = []\n",
    "        i=0\n",
    "        #print(a)\n",
    "        num_word = \"\"\n",
    "        tu_both = 0\n",
    "        t_added = 0\n",
    "        h_added = 0\n",
    "        \n",
    "        u =  str(int(a%10))\n",
    "        t =  str(int((a%100)/10))\n",
    "        h =  str(int((a%1000)/100))\n",
    "        tu = str(a%100)\n",
    "        th = str(int(a/1000))\n",
    "        tt = str(int(a/10000))\n",
    "        # ht = str(int(a/100000))\n",
    "        # m =  str(int(a/1000000))\n",
    "\n",
    "        # x = [u,t,h]\n",
    "        # b = list(reversed(x))\n",
    "        #print(f\"tt: {tt} th: {th} h: {h} tu: {tu} t: {t} u: {u}\")\n",
    "        if tt:\n",
    "            for k in nums:\n",
    "                if tt == k and k!=\"0\":\n",
    "                    index = nums.index(k)\n",
    "                    ans.append(num_words[index])\n",
    "                    num_word = num_word + num_words[index]\n",
    "                    t_added = 1\n",
    "                    break\n",
    "        if th:\n",
    "            for k in nums:\n",
    "                if th == k and k!=\"0\":\n",
    "                    index = nums.index(k)\n",
    "                    num_word = num_word + num_words[index]\n",
    "                    t_added =1\n",
    "                    break\n",
    "        \n",
    "        if t_added: num_word += \" duisend\"\n",
    "\n",
    "        if h:\n",
    "            for k in nums:\n",
    "                if h == k and k!=\"0\":\n",
    "                    index = nums.index(k)\n",
    "                    num_word = num_word + \" \"+ num_words[index] + ' honderd'\n",
    "                    h_added = 1\n",
    "                    break\n",
    "        if tu:\n",
    "            for k in nums:\n",
    "                if tu == k:\n",
    "                    index = nums.index(k)\n",
    "                    if h_added: num_word = num_word +\" en \"+ num_words[index]\n",
    "                    else: num_word = num_word +\" \"+ num_words[index]\n",
    "                    tu_both = 1\n",
    "                    break\n",
    "        if t:\n",
    "            for k in nums:\n",
    "                if t == k and tu_both==0:\n",
    "                    index = nums.index(k)\n",
    "                    if h_added: num_word = num_word +\" en \"+ num_words[index]\n",
    "                    else: num_word = num_word +\" \"+ num_words[index]\n",
    "                    break\n",
    "        if u:\n",
    "            for k in nums:\n",
    "                if u == k and tu_both==0:\n",
    "                    index = nums.index(k)\n",
    "                    num_word = num_word +\" \"+ num_words[index]\n",
    "                    break\n",
    "        # #x = [u,t,h,th,tt,ht,m]\n",
    "        # # for i in range(len(b)):\n",
    "        #     for k in nums:\n",
    "        #         if b[i] == k and not(b[i] == '0' and i > 0):\n",
    "        #             index = nums.index(k)\n",
    "        #             ans.append(num_words[index])\n",
    "        #             break\n",
    "            \n",
    "        return num_word\n",
    "\n",
    "\n",
    "    c = re.findall(r'[A-Za-z]+|\\d+', seq)\n",
    "    ans = []\n",
    "    for j,i in enumerate(c):\n",
    "        if i.isdigit():\n",
    "            ans.append(convert_num_word(i))\n",
    "        else: ans.append(i)\n",
    "\n",
    "    return ans\n",
    "\n",
    "\n",
    "\n"
   ]
  },
  {
   "cell_type": "code",
   "execution_count": 197,
   "metadata": {},
   "outputs": [
    {
     "name": "stdout",
     "output_type": "stream",
     "text": [
      "['co', ' drie twee', 'despee', ' twee honderd en agt', 'dy']\n",
      " sewe honderd en ses sewe\n",
      "een duisend een honderd en twee agt\n",
      "1\n"
     ]
    }
   ],
   "source": [
    "stra=\"co32despee208dy\"\n",
    "print(split_nums_letters(stra))\n",
    "print(convert_num_word(\"767\"))\n",
    "print(convert_num_word(1128))\n",
    "\n",
    "a = 1128\n",
    "print(int((a%1000)/100))"
   ]
  },
  {
   "cell_type": "code",
   "execution_count": 198,
   "metadata": {},
   "outputs": [
    {
     "name": "stdout",
     "output_type": "stream",
     "text": [
      "60219\n",
      "5820\n",
      "['a', 'aan', 'aanbeveel', 'aanbied', 'aand', 'aandag', 'aandrywing', 'aangaan', 'aangebring', 'aangee', 'aangegee', 'aangehou', 'aangel', 'aangemeld', 'aangenome', 'aangepas', 'aangesien', 'aangestel', 'aangeteken', 'aangetref', 'aanhaling', 'aankoopprys', 'aanleiding', 'aanloklik', 'aanloopbaan', 'aanmekaar', 'aanmoedig', 'aanneem', 'aanneming', 'aanpak', 'aansoek', 'aantal', 'aanteken', 'aanvaar', 'aanval', 'aanvaller', 'aanvangskolwer', 'aanvanklik', 'aar', 'aarbeie', 'aardbewings', 'aarde', 'aardverwarming', 'aasvo', 'abandonment', 'abbotsdale', 'aberfeldy', 'able', 'abnormal', 'about', 'abrahams', 'abstractions', 'absurdity', 'abundance', 'accept', 'accidental', 'accordance', 'accounting', 'aces', 'acquaintance', 'acquiescence', 'across', 'act', 'acts', 'actual', 'adamstein', 'added', 'adjectives', 'administrateur', 'adonis', 'adriaan', 'adrift', 'advantage', 'advantages', 'adventure', 'adverbs', 'af', 'afbetaal', 'afbreek', 'afdeling', 'affected', 'afgee', 'afgekeur', 'afgel', 'afgelei', 'afgemaai', 'afgeneem', 'afgesien', 'afgesonderde', 'afghanistan', 'afkap', 'afkeuring', 'afkoel', 'afkoeling', 'afl', 'aflei', 'aflewering', 'afloop', 'afneem', 'afpeul', 'afrigter', 'afrika', 'afrikaans', 'afrikaanse', 'afrit', 'afskeid', 'afskop', 'afskryfwaarde', 'afslagitem', 'afspeel', 'afspoel', 'afstaan', 'afstand', 'afsterwe', 'afstoot', 'afsydig', 'after', 'afternoon', 'aftrede', 'afval', 'afvalproduk', 'afvoer', 'afwaarts', 'ag', 'again', 'against', 'age', 'aged', 'agente', 'agents', 'aggeneys', 'aggie', 'agnes', 'ago', 'agony', 'agt', 'agter', 'agtergrond', 'agterspeler', 'agtervoegsels', 'agtien', 'agtige', 'agulhas', 'ah', 'ahead', 'ahrens', 'air', 'ajar', 'ajax', 'akademiese', 'akkedissies', 'aksie', 'aktief', 'aktiwiteit', 'aktiwiteite', 'akwa', 'akwaduk', 'akwariums', 'al', 'albei', 'alberta', 'albertinia', 'albertshoek', 'albertyn', 'albie', 'albion', 'albums', 'alchemie', 'alcohol', 'alderley', 'aldinville', 'aletta', 'alexander', 'alexandria', 'alg', 'alge', 'algemeen', 'algemene', 'alice', 'alkaan', 'all', 'alle', 'alledaagse', 'alleen', 'alles', 'allie', 'allow', 'ally', 'almal', 'almost', 'alone', 'along', 'already', 'also', 'altaar', 'altered', 'altesaam', 'altruism', 'altwee', 'altyd', 'aluminium', 'aluminiumblok', 'aluminiumfoelie', 'always', 'am', 'amalia', 'amalienstein', 'amateurish', 'ambition', 'ambrosiawyn', 'amfibie', 'ammoniak', 'among', 'amongst', 'amp', 'an', 'anas', 'anastasia', 'anchor', 'and', 'ander', 'andere', 'anders', 'andre', 'andrew', 'angelo', 'anguish', 'angula', 'animals', 'animasie', 'announced', 'annoy', 'annoying', 'anoniem', 'another', 'answer', 'antagonist', 'anticipate', 'antwoord', 'any', 'anything', 'anyway', 'apart', 'apologized', 'apparaat', 'appealed', 'appear', 'appearance', 'applikante', 'appreciate', 'appreciation', 'apprehension', 'approached', 'apron', 'arabi', 'arbeid', 'arbeiders', 'are', 'area', 'argipel', 'argitek', 'argitektuur', 'argue', 'argued', 'argument', 'ariarathes', 'arlington', 'arm', 'armeni', 'arms', 'around', 'aroused', 'arrange', 'arrows', 'arsenal', 'articulate', 'artikel', 'artistic', 'artists', 'as', 'ashore', 'ashton', 'asiatic', 'aside', 'asimptoot', 'asimptotiese', 'asive', 'ask', 'asked', 'askorbiensuur', 'asleep', 'asse', 'asseblief', 'aston', 'asyn', 'at', 'ate', 'athlete', 'athletic', 'atl', 'atmosfeer', 'atmosphere', 'atoll', 'atome', 'atomiese', 'atoom', 'attack', 'attempt', 'attempted', 'aubrey', 'augustus', 'aurelia', 'aurora', 'australi', 'australia', 'author', 'automaton', 'average', 'aviwe', 'away', 'awe', 'aweregs', 'ayanda', 'azaka', 'b', 'baai', 'baba', 'babas', 'babiloni', 'bachelor', 'back', 'backs', 'bad', 'badkamer', 'badkamervloer', 'badkompleks', 'bafana', 'bafokeng', 'bags', 'baie', 'bak', 'bakkie', 'bakoorjakkalse', 'bakstene', 'bal', 'balance', 'balgowan', 'balle', 'ballon', 'ballone', 'balls', 'balmoral', 'baloyi', 'bande', 'bandelierkop', 'bandile', 'bang', 'bangladesj', 'bank', 'bankrekening', 'bankruptcy', 'banks', 'bannelinge', 'baptized', 'barbaric', 'barberspan', 'barberton', 'barcelona', 'bared', 'barely', 'bargains', 'baroda', 'barrydale', 'basies', 'basis', 'basketbalspeler', 'bassett', 'bath', 'battery', 'batterye', 'baviaan', 'bavuma', 'bayrou', 'bazley', 'be', 'beach', 'beady', 'beamptes', 'beantwoord', 'bear', 'beating', 'beatrice', 'beau', 'beauty', 'bebos', 'became', 'become', 'becoming', 'bed', 'bedank', 'bedanking', 'bedeel', 'bedek', 'bedompig', 'bedreig', 'bedryf', 'bedryfspoed', 'bedrywige', 'beduidend', 'been', 'beer', 'beers', 'beeste', 'before', 'began', 'begin', 'begrawe', 'begrip', 'begun', 'behaal', 'behalwe', 'behardien', 'behels', 'behind', 'behoeftes', 'behoort', 'behou', 'behuising', 'behulp', 'beide', 'being', 'bek', 'bekend', 'bekende', 'bekendgestel', 'bekendstaan', 'beker', 'bekering', 'bekers', 'beklee', 'bela', 'belangrik', 'belangrike', 'belangrikste', 'belangstellendes', 'belangstelling', 'belgi', 'believe', 'belinda', 'belize', 'bell', 'belmont', 'belofte', 'belowe', 'bemarkingsaktiwiteite', 'bemesting', 'ben', 'benadering', 'bene', 'benguela', 'benguella', 'benodig', 'benoem', 'benoni', 'bent', 'benut', 'beoefen', 'bepaal', 'bepaalde', 'beperk', 'beplan', 'beplanning', 'berea', 'bereeking', 'bereik', 'bereken', 'berg', 'bergfietsryer', 'bergfynbos', 'bergkwaggas', 'bergrivier', 'bergwoude', 'berig', 'besering', 'besetting', 'beside', 'besides', 'besig', 'besigtiging', 'besit', 'beskerm', 'beskikbaar', 'beskikbare', 'beskou', 'beskryf', 'beslaan', 'beslis', 'beslising', 'besluit', 'besoek', 'bespiegeling', 'bespreek', 'bespreking', 'besprekings', 'besproeiing', 'bestaan', 'bestee', 'bestemming', 'bestudeer', 'bestuur', 'betaal', 'betalings', 'beteken', 'beter', 'bethal', 'bethanie', 'bethelsdorp', 'bethesda', 'bethlehem', 'betrap', 'betrayal', 'betroubare', 'between', 'betwis', 'betwyfel', 'beuran', 'beurt', 'bevan', 'bevat', 'beveilig', 'bevestig', 'bevind', 'bevindings', 'bevolking', 'bevorder', 'bevrore', 'bevrug', 'bewaar', 'beweeg', 'beweeglik', 'beweer', 'beweging', 'bewegings', 'bewerig', 'bewolk', 'bewys', 'bewyse', 'beyond', 'beywer', 'bhasera', 'biblioteek', 'bidvest', 'bied', 'biesiesvlei', 'bietjie', 'big', 'bijagos', 'biko', 'bikonkaaf', 'bikonkawe', 'bikuspidale', 'biljartballe', 'biljoen', 'bill', 'billy', 'binne', 'binnekant', 'binnelandse', 'binoom', 'biografis', 'biologists', 'bioom', 'birds', 'bit', 'bizhub', 'blaar', 'blaas', 'black', 'blame', 'blapsie', 'blare', 'bless', 'blessing', 'blignaut', 'blikke', 'blink', 'blinkers', 'blitsig', 'bloed', 'bloeddorstige', 'bloeddruk', 'bloedglukose', 'bloedgroep', 'bloedige', 'bloedsirkulasie', 'bloedskenkings', 'bloedvate', 'bloedvergieting', 'bloedvolume', 'bloei', 'bloekoms', 'bloem', 'bloemfontein', 'blok', 'blom', 'blomme', 'blommetuin', 'blomplante', 'blood', 'blote', 'blou', 'blouerige', 'bly', 'blyk', 'blykbaar', 'bo', 'boat', 'bob', 'bodibe', 'body', 'boeddhis', 'boeddhisme', 'boeie', 'boek', 'boeke', 'boeklonge', 'boer', 'boerbokke', 'boerdery', 'bogrond', 'boipatong', 'bokang', 'bokke', 'bokkies', 'boks', 'boksburg', 'bome', 'bonanza', 'bone', 'bongani', 'bongi', 'bons', 'bontkwagga', 'bontrokkie', 'bonusvraag', 'boodskap', 'boog', 'booiman', 'boom', 'boomhars', 'boompie', 'boomvaring', 'boomveld', 'boonste', 'boor', 'bopunt', 'bore', 'borealis', 'bored', 'borglum', 'born', 'borrowing', 'borsband', 'bosbou', 'boshof', 'bosom', 'boston', 'bosveld', 'bosw', 'botes', 'both', 'botha', 'botshelo', 'botsing', 'botsings', 'botswana', 'bottel', 'botter', 'bou', 'boublok', 'bought', 'boul', 'boulbeurt', 'boulbeurte', 'bouler', 'boulers', 'boundaries', 'bouperseel', 'bourgeois', 'bournemouth', 'bow', 'bowed', 'box', 'boy', 'boys', 'boytjie', 'braaf', 'brain', 'brakpan', 'branch', 'brand', 'brandgevaar', 'break', 'breast', 'breathe', 'breed', 'breedte', 'brei', 'brein', 'brentwood', 'brett', 'breuk', 'bribery', 'bridge', 'brief', 'brien', 'bright', 'brightness', 'briljantheid', 'bring', 'bringing', 'broach', 'broei', 'broer', 'broke', 'broken', 'bromwich', 'bronne', 'bronsbeeld', 'brood', 'brooddeeg', 'broom', 'brought', 'brug', 'bruikbaar', 'bruin', 'bruis', 'brute', 'bruyn', 'buckeye', 'bucolic', 'buffalo', 'buigbare', 'buiging', 'buigsaam', 'build', 'buis', 'buise', 'buisies', 'buitebrandenjins', 'buitengewoon', 'bulkheads', 'bulle', 'bultfontein', 'bulwer', 'bundesliga', 'bure', 'burgersdorp', 'buried', 'burn', 'burned', 'burnt', 'burst', 'bursting', 'bush', 'business', 'buslyne', 'but', 'butchers', 'buurplaas', 'buy', 'buys', 'by', 'bydrae', 'byeboer', 'byebrood', 'byespesies', 'bygevoeg', 'bylaag', 'bymekaar', 'byna', 'bynaam', 'byskrifte', 'byvoorbeeld', 'bywoon', 'c', 'cabin', 'calculated', 'caledon', 'call', 'calm', 'calvados', 'calvin', 'cambria', 'came', 'camp', 'campbell', 'can', 'canada', 'canadian', 'cane', 'cannot', 'canoe', 'canvas', 'canyons', 'cape', 'capital', 'captain', 'captured', 'car', 'carcass', 'cardoso', 'cared', 'careful', 'carefully', 'cargo', 'carletonville', 'carlington', 'carlsonia', 'carnegie', 'carry', 'cascades', 'case', 'cases', 'cash', 'cashier', 'casualty', 'catch', 'catharina', 'caught', 'cautiously', 'caves', 'cedarville', 'celsius', 'celtic', 'certain', 'certainly', 'certitude', 'chain', 'chair', 'chakoroma', 'challenged', 'champagne', 'chances', 'change', 'changed', 'chaotic', 'charcoal', 'charge', 'charles', 'charlie', 'charlies', 'charmed', 'chased', 'chattering', 'chauffeur', 'cheer', 'chelsea', 'chem', 'chemical', 'chemie', 'chemiese', 'chemikalie', 'cherokee', 'chevrolet', 'chewing', 'chideu', 'chief', 'chiefly', 'chiefs', 'child', 'children', 'chill', 'chilly', 'chinese', 'chippa', 'choice', 'choking', 'chris', 'christus', 'chronologiese', 'chuniespoort', 'churchaven', 'churches', 'churchill', 'circumference', 'cities', 'city', 'civilization', 'claim', 'clarkebury', 'class', 'claudine', 'clean', 'clocolan', 'close', 'closed', 'closely', 'closing', 'clothes', 'club', 'clubbed', 'clubs', 'clucking', 'clustered', 'clutching', 'clyde', 'cm', 'coal', 'coalville', 'coat', 'cobras', 'cobus', 'cocky', 'cod', 'coetsee', 'coetzee', 'coincidence', 'coke', 'cold', 'coldplay', 'coleford', 'coligny', 'colin', 'colombia', 'color', 'combination', 'come', 'comfortably', 'coming', 'commands', 'commissioner', 'committed', 'common', 'commondale', 'commonwealth', 'companion', 'comparatively', 'compass', 'compound', 'conduct', 'confidence', 'conjured', 'considered', 'consumed', 'contact', 'contemplating', 'continue', 'continued', 'contracted', 'contributed', 'control', 'convincing', 'conway', 'cooler', 'cooperative', 'cords', 'corrected', 'corry', 'cosmos', 'costa', 'could', 'counting', 'countries', 'country', 'course', 'cradock', 'craig', 'crater', 'crawled', 'creative', 'creek', 'creeping', 'cried', 'crooked', 'crops', 'crouched', 'crushed', 'cry', 'cryptic', 'crystal', 'cullen', 'cullinan', 'cum', 'cunning', 'curiosity', 'curious', 'curiously', 'curly', 'curry', 'cut', 'cutters', 'd', 'da', 'daagliks', 'daal', 'daar', 'daaraan', 'daardie', 'daarheen', 'daarin', 'daarmee', 'daarna', 'daarom', 'daaroor', 'daarop', 'daaruit', 'daarvan', 'daarvolgens', 'daarvoor', 'daddy', 'dae', 'dag', 'dagbreek', 'dagmynbou', 'daily', 'daine', 'dak', 'dala', 'dale', 'dalk', 'dame', 'dan', 'dane', 'danger', 'daniel', 'dannhauser', 'dante', 'daouda', 'darja', 'darjarivier', 'dark', 'darker', 'darnall', 'dart', 'daryn', 'dat', 'data', 'date', 'dated', 'datum', 'daughtry', 'daveyton', 'david', 'davids', 'day', 'daylight', 'days', 'de', 'dead', 'dealesville', 'dean', 'death', 'debutante', 'deceitful', 'deed', 'deeg', 'deeglik', 'deel', 'deelname', 'deelneem', 'deelnemers', 'deeltjies', 'deeltydse', 'deep', 'deepened', 'deeper', 'deesdae', 'definieer', 'definisie', 'degree', 'dek', 'dekade', 'deksel', 'deksels', 'delicate', 'delighted', 'delivered', 'deluged', 'demokratiese', 'denatureer', 'denial', 'denkende', 'dennin', 'departementshoof', 'deportation', 'der', 'derde', 'derdebeurt', 'dertien', 'dertig', 'desert', 'desimaal', 'desimale', 'desondanks', 'desperaatheid', 'destined', 'destroy', 'destroyed', 'destyds', 'determined', 'deterrent', 'deur', 'deure', 'deurmaak', 'deursnee', 'developed', 'developments', 'devil', 'devon', 'devotion', 'di', 'diagram', 'diakit', 'diamant', 'diameter', 'dibeng', 'did', 'die', 'died', 'diedericks', 'dief', 'dien', 'diens', 'dienste', 'diep', 'dier', 'diere', 'dieselfde', 'dievas', 'dig', 'digte', 'digtheid', 'dik', 'dikteer', 'dikwels', 'dillon', 'dinge', 'dingleton', 'dink', 'dinner', 'direct', 'direction', 'direk', 'direkteur', 'dirt', 'dis', 'disappointment', 'discovery', 'disease', 'disgusted', 'disheveled', 'disillusionment', 'dislocated', 'dismay', 'disndag', 'dispute', 'disturb', 'dit', 'diversion', 'do', 'dobbelsteen', 'doctrine', 'document', 'doele', 'doelhok', 'doelskote', 'doelwagter', 'doelwit', 'doen', 'does', 'dog', 'doggone', 'dogs', 'dogter', 'doing', 'doktorale', 'dol', 'dollars', 'dolphins', 'dombo', 'dominated', 'dominee', 'dominees', 'don', 'donderdag', 'donderstorms', 'donker', 'donkey', 'dood', 'doodbloei', 'dooie', 'dooies', 'door', 'dophou', 'dopstrukture', 'dordrecht', 'dorp', 'dorpie', 'dorpsondagskool', 'double', 'doubling', 'doubly', 'doubt', 'douglas', 'down', 'dowwe', 'dozen', 'dr', 'dra', 'draai', 'draaibare', 'draakbote', 'dragon', 'drama', 'dramatiese', 'drank', 'draw', 'drawn', 'dreadfully', 'dreams', 'drie', 'driedimensionele', 'driehoek', 'drielaag', 'dring', 'drink', 'drinkplekke', 'dripping', 'driver', 'dro', 'drome', 'droom', 'dropped', 'drought', 'drowned', 'druk', 'drumming', 'drunk', 'dryf', 'dryfkrag', 'drywing', 'drywingsgradering', 'ds', 'du', 'duality', 'dubbele', 'dubbelkonkaaf', 'dubbelkonveks', 'duckworth', 'dui', 'duideliker', 'duifies', 'duik', 'duikbomwerpers', 'duikpak', 'duim', 'duimgooiers', 'duin', 'duine', 'duisend', 'duiwe', 'duiwelskloof', 'duiweltjies', 'duiwemelk', 'dukkha', 'duminy', 'dun', 'dunbevolk', 'dunham', 'dupavillon', 'durban', 'during', 'dus', 'dusver', 'duur', 'dwarsbalkies', 'dweller', 'e', 'each', 'ear', 'earliest', 'early', 'earned', 'earnings', 'ears', 'earth', 'easily', 'eastern', 'easy', 'eating', 'ecca', 'ecstatically', 'eddie', 'ede', 'edenville', 'edgar', 'edge', 'edged', 'edinburgh', 'editorial', 'edward', 'ee', 'een', 'eendag', 'eendagkrieket', 'eenhede', 'eenheid', 'eenheidstaat', 'eens', 'eensoortige', 'eenvoud', 'eenvoudig', 'eenvoudige', 'eenvoudiger', 'eers', 'eerste', 'eerstebeurt', 'eertydse', 'eerw', 'eet', 'eetlepels', 'eetsaal', 'eeu', 'eeue', 'eeuse', 'effect', 'effek', 'effekte', 'effektief', 'effektiewe', 'effens', 'efficiently', 'effort', 'eggshell', 'egiptiese', 'egskeiding', 'egter', 'eie', 'eienskap', 'eienskappe', 'eiergeel', 'eiersel', 'eiertjie', 'eiesoortige', 'eighteen', 'eighteenth', 'eiland', 'eilande', 'eileen', 'einde', 'eindig', 'eindtelling', 'ek', 'ekonomie', 'ekonomiese', 'ekosisteem', 'ekostelsel', 'eksagreep', 'eksamen', 'eksogene', 'eksperiment', 'eksteen', 'ekstein', 'ekstra', 'ekstras', 'ekstreme', 'elaborated', 'elandsbaai', 'elders', 'eldorado', 'elektriesaangedrewe', 'elektriese', 'elektrisiteit', 'elektrisiteitsnetwerk', 'elektrode', 'elektrodepotensiaal', 'elektrone', 'elektroskoop', 'element', 'elemente', 'elf', 'elgar', 'elgin', 'eli', 'elijah', 'elim', 'elizabeth', 'elk', 'elke', 'elkeen', 'elliptiese', 'elmbo', 'elongated', 'else', 'em', 'emalahleni', 'embleem', 'embolie', 'emeritaat', 'emily', 'emirate', 'emitting', 'emma', 'emotion', 'empangeni', 'empire', 'employers', 'emptied', 'emulsies', 'en', 'encouraged', 'end', 'endure', 'endured', 'ene', 'enemies', 'energie', 'energiebron', 'energiebronne', 'energy', 'engage', 'engagements', 'engeland', 'engelbrecht', 'engele', 'engels', 'engelse', 'engineer', 'english', 'enige', 'enigste', 'enjin', 'enjinsnelhede', 'enjoy', 'enkel', 'enkele', 'enkelgraf', 'enkellaag', 'enkelvoud', 'enkelvoudige', 'enough', 'ensieme', 'entered', 'enters', 'enthusiasm', 'enthusiast', 'entjie', 'epidemie', 'epilepsie', 'epiteel', 'epiteelweefsel', 'epru', 'equally', 'era', 'erasmus', 'erf', 'erick', 'erlank', 'ernest', 'erosie', 'ervaring', 'escape', 'eshowe', 'eskadrons', 'establishment', 'estcourt', 'estrogeen', 'etanol', 'etc', 'etensbreuk', 'ethekwini', 'ethics', 'europa', 'eutrofikasie', 'evangelie', 'even', 'evening', 'ever', 'everton', 'every', 'everywhere', 'evidences', 'ewe', 'eweneens', 'eweredig', 'ewewydig', 'ewig', 'exactly', 'exciting', 'exclaimed', 'exclamations', 'excuse', 'existence', 'expectancy', 'experience', 'explain', 'explained', 'explosion', 'express', 'eye', 'eyed', 'eyes', 'f', 'face', 'faced', 'faces', 'failed', 'faintly', 'fairly', 'faith', 'faktuur', 'falter', 'faltered', 'familie', 'familielandgoed', 'family', 'fangs', 'farhaan', 'farmer', 'farther', 'fastidious', 'fat', 'fate', 'father', 'fathom', 'fault', 'favor', 'fc', 'fear', 'fearing', 'feathered', 'feebly', 'feel', 'feelings', 'feels', 'fees', 'feet', 'feevlie', 'fell', 'fellow', 'felt', 'fence', 'ferguson', 'ferm', 'ferry', 'few', 'fiets', 'fifa', 'fifteen', 'fifth', 'fifty', 'fighter', 'fighting', 'figuring', 'fill', 'filled', 'filmgenre', 'films', 'filosofie', 'finale', 'finality', 'find', 'fine', 'fingers', 'finlay', 'fire', 'first', 'fished', 'fit', 'fixed', 'flagstaff', 'flaming', 'flash', 'flat', 'fles', 'flesh', 'flesse', 'flick', 'flo', 'flower', 'fluit', 'flush', 'foiled', 'fokus', 'follow', 'followed', 'following', 'fond', 'foolish', 'foolishly', 'foolishness', 'foon', 'foot', 'footprints', 'for', 'forbidden', 'force', 'forces', 'forecasting', 'forefinger', 'forego', 'forehead', 'foreman', 'foremost', 'forest', 'forever', 'forget', 'forgotten', 'form', 'formasies', 'formule', 'forseer', 'fort', 'forth', 'fortuin', 'forty', 'forward', 'fosfaat', 'fosfaatkunsmis', 'fosfaatprobleem', 'foto', 'fotografie', 'fotos', 'found', 'foundation', 'fourth', 'foutbal', 'foutballe', 'fraai', 'fragment', 'francisbaai', 'francois', 'frank', 'frankryk', 'franschhoek', 'franskraal', 'fransman', 'fraserburg', 'fraud', 'free', 'freed', 'fregatte', 'freight', 'frekwensie', 'fresh', 'friend', 'friendship', 'fright', 'frits', 'from', 'fulham', 'full', 'fumaarsuur', 'funk', 'funksie', 'fynbos', 'fynbosspesies', 'g', 'gaan', 'gad', 'gained', 'gallina', 'game', 'gang', 'gangbare', 'gapings', 'garden', 'gardener', 'gariep', 'garies', 'garnale', 'gary', 'gas', 'gasballe', 'gaskoeldrank', 'gasringe', 'gasse', 'gaste', 'gate', 'gaum', 'gaunt', 'gauteng', 'gave', 'ge', 'geaffekteer', 'geannekseer', 'geassosieer', 'gebak', 'gebeur', 'gebeure', 'gebied', 'gebly', 'gebonde', 'gebore', 'gebou', 'geboue', 'geboul', 'gebrand', 'gebruik', 'gebuig', 'gedaal', 'gedagte', 'gedeel', 'gedeeltelik', 'gedefinieer', 'gedeporteer', 'gedink', 'gedoen', 'gedryf', 'geduik', 'geduldige', 'gedurende', 'gedy', 'gee', 'geel', 'geen', 'geforseer', 'gegee', 'gegooi', 'gegrawe', 'gegroei', 'gehad', 'gehef', 'geheg', 'geheim', 'geheime', 'gehoor', 'gehore', 'gehou', 'gehuggie', 'gehuur', 'geillustreer', 'gejag', 'gekenmerk', 'gekleurde', 'geklop', 'gekoester', 'gekry', 'gelaat', 'geld', 'geldenhuys', 'gele', 'geleef', 'geleer', 'geliefde', 'geluidjies', 'gelukkig', 'gelyk', 'gelykmatig', 'gelykop', 'gelykstaande', 'gemaak', 'gemagtigde', 'gemeente', 'gemeet', 'gemiddeld', 'gemiddelde', 'gemmerbier', 'gemsbok', 'gemsbokke', 'genaamd', 'genealogie', 'geneem', 'generaal', 'general', 'genesing', 'genius', 'genoeg', 'genoem', 'genooi', 'genre', 'gentlemen', 'genuine', 'genus', 'geografie', 'geoksideer', 'geoktroieerde', 'geolo', 'geoloog', 'geopen', 'geopolitiek', 'george', 'georges', 'gepaard', 'gepaardgaande', 'geplaas', 'geprosesseer', 'gepubliseer', 'geraak', 'gereed', 'gereedskap', 'gereeld', 'geregtigheid', 'gereis', 'gerespekteerde', 'gerhardt', 'geriewe', 'germany', 'germiston', 'geroep', 'gert', 'gese', 'gesegde', 'geskakeer', 'geskep', 'geskiedenis', 'geskiedkundiges', 'geskiet', 'geskrifte', 'geskryf', 'geslagsrype', 'gesluit', 'gesmelte', 'gesogte', 'gesondheid', 'gespeel', 'gestaan', 'gesteentes', 'gestel', 'gestuur', 'get', 'getal', 'getalle', 'getel', 'getjank', 'getoer', 'getref', 'getrek', 'getroud', 'gety', 'gevaarlike', 'geveg', 'gevoeg', 'gevoer', 'gevolg', 'gevolglik', 'gevolgtrekking', 'gevorm', 'gevra', 'gevreesde', 'gevul', 'gewaarborg', 'geweeg', 'geweer', 'gewees', 'geweier', 'gewen', 'gewerk', 'gewilde', 'gewone', 'gewoon', 'gewoonlik', 'geword', 'gewys', 'ghana', 'ghoendoeroe', 'ghoeries', 'gholfbaan', 'gholfballe', 'ghost', 'giant', 'gift', 'gigantic', 'girl', 'girls', 'gis', 'giulio', 'giurich', 'give', 'giveth', 'glad', 'gladde', 'gladys', 'glasstaaf', 'gleamed', 'glimmer', 'glimpsed', 'glo', 'gloed', 'gloeilamp', 'gloeilampie', 'gloom', 'glory', 'glow', 'go', 'goble', 'god', 'gode', 'godsdiens', 'goed', 'goedgekeur', 'goedhartig', 'goedkeuring', 'goedkoop', 'goedkoper', 'goeie', 'goewerneur', 'goiingsakke', 'going', 'golden', 'goldman', 'golf', 'golflengte', 'golflengtes', 'golly', 'golwe', 'gom', 'gommagutta', 'gone', 'good', 'goodbye', 'goodman', 'goods', 'gooi', 'goose', 'gordon', 'gordonsbaai', 'gorgias', 'got', 'gouda', 'goudmyne', 'goue', 'gouged', 'graad', 'graafmasjien', 'graag', 'grabouw', 'grace', 'grade', 'gradeboog', 'gradi', 'graduated', 'grafeem', 'grafiek', 'grafieka', 'grafieke', 'grafiekpapier', 'graham', 'grain', 'granwald', 'grashalmpie', 'grass', 'grasveld', 'gravel', 'gravelotte', 'gravitasie', 'gravitasiekrag', 'gravitone', 'grawe', 'gray', 'greater', 'greatly', 'green', 'greeting', 'gregorius', 'gregson', 'grens', 'grepe', 'gretchen', 'grew', 'grimly', 'griquas', 'groblersdal', 'groei', 'groeiende', 'groeilemme', 'groen', 'groente', 'groep', 'groepe', 'groepeer', 'groeplede', 'grond', 'grondpad', 'grondwet', 'groomed', 'groot', 'grootgemaak', 'grootkraal', 'grootliks', 'grootlosie', 'grootste', 'grov', 'growing', 'grown', 'growth', 'grub', 'grudges', 'gryp', 'guano', 'guilt', 'gurus', 'gustaf', 'gwen', 'gwennie', 'h', 'haak', 'haal', 'haar', 'habitat', 'had', 'hadebe', 'haelstorms', 'hair', 'hak', 'half', 'halfmaanvormige', 'halfreaksie', 'halftyd', 'halfway', 'hall', 'haloalkaan', 'halogeen', 'ham', 'hand', 'handboek', 'handboeke', 'handed', 'handel', 'handgeskrewe', 'handhaaf', 'handkerchief', 'handle', 'handled', 'hands', 'handskoene', 'hang', 'hangers', 'hannover', 'hanrahan', 'hansie', 'happened', 'harder', 'harding', 'hardloop', 'hardly', 'hardop', 'hardus', 'hare', 'harmer', 'harp', 'harpoon', 'harrismith', 'harrison', 'harry', 'hart', 'hartbeespoortdam', 'hartklop', 'hartkloptempo', 'harvest', 'has', 'hasel', 'haselneut', 'hat', 'hatchet', 'hate', 'hatred', 'have', 'hawaii', 'hawaiian', 'hawk', 'he', 'head', 'heads', 'heard', 'hearts', 'hearty', 'heat', 'heavens', 'heavy', 'hebdo', 'hectorspruit', 'hedendaagse', 'heel', 'heelal', 'heelgetal', 'heeltyd', 'hef', 'heftig', 'heilige', 'heiligverklaring', 'heinings', 'heinrich', 'hekke', 'hekkies', 'held', 'helder', 'helderkleurige', 'helderrooi', 'helikopters', 'helium', 'helling', 'help', 'helpless', 'hendrick', 'hendricks', 'hendrik', 'hendrina', 'henrico', 'henry', 'her', 'herberekening', 'herbou', 'herdoop', 'here', 'herhaal', 'herkoms', 'herlewe', 'hermanus', 'hernieude', 'hernubare', 'heroorweging', 'hers', 'herself', 'herstel', 'herstelde', 'herverkies', 'het', 'hibberdene', 'hibried', 'hibriedmotors', 'hiding', 'hier', 'hieraan', 'hierbo', 'hierdie', 'hiermee', 'hierna', 'hierop', 'hiertoe', 'hiervan', 'high', 'highveld', 'hiiumaa', 'him', 'himeville', 'himself', 'hipnoterapie', 'hipotese', 'his', 'history', 'hitte', 'hne', 'ho', 'hoe', 'hoed', 'hoef', 'hoegenaamd', 'hoeke', 'hoekom', 'hoekpunt', 'hoeksteen', 'hoeveel', 'hoeveelhede', 'hoeveelheid', 'hoewel', 'hofmeyer', 'hofmeyr', 'hoist', 'hol', 'hold', 'holmes', 'hologramme', 'hom', 'home', 'homesick', 'homolo', 'homself', 'honde', 'honderd', 'honolulu', 'hoof', 'hoofgebou', 'hoofgroepe', 'hoofgroepmetale', 'hoofketting', 'hoofkleure', 'hoofoorsaak', 'hoofpad', 'hoofs', 'hoofstad', 'hoofstraat', 'hoofstuk', 'hooftipes', 'hoofvoordele', 'hoofweg', 'hoog', 'hoogleraar', 'hoogste', 'hoogte', 'hoop', 'hoor', 'hoort', 'hope', 'horisontale', 'horlosieglas', 'hormisdas', 'hormone', 'horrified', 'hot', 'hotel', 'hotels', 'hotly', 'hotspur', 'hou', 'houer', 'hour', 'hours', 'house', 'hout', 'houtblok', 'houtjie', 'houtvesels', 'houtvuur', 'houtwerk', 'houtwiele', 'how', 'however', 'howick', 'hughie', 'huis', 'huise', 'huisvaderswoning', 'huisves', 'hul', 'hulle', 'hulp', 'hulpbronne', 'hulpmiddel', 'human', 'humanity', 'hump', 'hundred', 'hungry', 'hunt', 'hurrah', 'hush', 'hutchinson', 'huwelik', 'huweliksmaat', 'hy', 'hyena', 'hypothesis', 'hysteria', 'i', 'ice', 'idea', 'ideal', 'ideals', 'ideas', 'idees', 'identified', 'identifiseer', 'iemand', 'ierland', 'iets', 'if', 'ignoring', 'illuminating', 'illustrasie', 'illustrasies', 'illustreer', 'imagine', 'imagining', 'immaculate', 'immortal', 'impak', 'impendle', 'impossible', 'impulse', 'in', 'inanda', 'incidental', 'income', 'increasing', 'incubation', 'indeed', 'indi', 'indians', 'indiese', 'indig', 'indigestion', 'individu', 'individualism', 'indrukwekkende', 'induced', 'infernal', 'information', 'ingang', 'ingedien', 'ingegooi', 'ingehou', 'ingeskryf', 'ingesluit', 'ingewikkelde', 'inglip', 'ingram', 'inhoudsmaat', 'inisiasie', 'inisiatief', 'inklyn', 'inkomste', 'inkopies', 'inligting', 'insek', 'insekte', 'insidious', 'insinuate', 'instant', 'instead', 'instinct', 'instituted', 'insulien', 'insult', 'intelligent', 'intention', 'interessante', 'intermittent', 'intermolekul', 'internasionaal', 'internasionale', 'internet', 'interrupted', 'interurban', 'into', 'intoxicated', 'investing', 'invloed', 'invoere', 'inwoners', 'ioon', 'ioonstert', 'iota', 'irrasionaal', 'irrelevant', 'irritation', 'irvine', 'is', 'issued', 'it', 'italiaanse', 'italian', 'item', 'items', 'its', 'itself', 'ivory', 'j', 'jaar', 'jaarliks', 'jaarlikse', 'jack', 'jackson', 'jacobs', 'jacques', 'jaf', 'jag', 'jagged', 'james', 'jan', 'jandre', 'jane', 'jansenville', 'january', 'jare', 'jason', 'jaws', 'jays', 'jealousy', 'jeanne', 'jellie', 'jelly', 'jellyman', 'jenny', 'jerry', 'jerusalem', 'jesse', 'jesus', 'jews', 'joan', 'joe', 'joernaal', 'jogurt', 'johan', 'johannes', 'johannesburg', 'johnny', 'johns', 'joined', 'joking', 'jomo', 'jones', 'jong', 'jonges', 'jongste', 'jonk', 'jooste', 'jordan', 'jose', 'jou', 'jouself', 'joy', 'joyous', 'jp', 'juan', 'judge', 'judgment', 'julia', 'julle', 'junie', 'junior', 'junta', 'jury', 'just', 'justin', 'juventus', 'juweel', 'jwele', 'jy', 'k', 'kaap', 'kaapmuiden', 'kaapstad', 'kaas', 'kaassmaak', 'kabels', 'kabinet', 'kadi', 'kagiso', 'kaizer', 'kalabri', 'kalium', 'kaliumhidroksied', 'kalsiuminhoud', 'kameel', 'kamp', 'kampioenskap', 'kampsbaai', 'kan', 'kanaal', 'kans', 'kant', 'kante', 'kapill', 'kaprielsuur', 'kapteinsrang', 'kaptien', 'karabach', 'karabo', 'karboksielsuur', 'karnivoor', 'karridene', 'kartonbladsy', 'karuru', 'kasino', 'kastaiingboom', 'kastreer', 'kategorie', 'katkisasie', 'katleho', 'katrina', 'kaviteer', 'ke', 'keaghan', 'keelvel', 'keenly', 'keep', 'keer', 'kegelfles', 'kegels', 'kemp', 'kempton', 'kenmerk', 'kenner', 'kenners', 'kenton', 'kerfoot', 'kerk', 'kerkbande', 'kerkgebou', 'kerkie', 'kerklidmaatskap', 'kerkraadslede', 'kerkskeuring', 'kerkstraat', 'kern', 'kerspuy', 'keurboomweg', 'kg', 'kgotsong', 'khayelitsha', 'khoi', 'khumalo', 'ki', 'kiddies', 'kies', 'killed', 'kills', 'kilometer', 'kinders', 'king', 'kingsmead', 'kinross', 'kitaar', 'klaasen', 'klam', 'klank', 'klanke', 'klankvorming', 'klap', 'klapperboom', 'klas', 'klate', 'klavier', 'kleding', 'klei', 'kleigroewe', 'klein', 'kleinbekswartbaars', 'kleiner', 'kleinseun', 'kleintjies', 'kleinveldt', 'klep', 'kleppe', 'klerefabriek', 'klerk', 'kleur', 'kleure', 'kleurlose', 'klikgeluide', 'klim', 'klink', 'klip', 'kliphuis', 'klippoortjie', 'klop', 'kluisenaar', 'km', 'knew', 'knie', 'knights', 'knip', 'knock', 'knocked', 'know', 'knowledge', 'known', 'knysna', 'ko', 'koe', 'koek', 'koekbeslag', 'koeke', 'koekemoer', 'koekies', 'koekoekvo', 'koeksoda', 'koel', 'koeldrank', 'koelhouer', 'koers', 'koevert', 'koeweit', 'koffie', 'koffiebaai', 'kokospalm', 'kol', 'kolf', 'kolfbeurt', 'kolfwerk', 'kollega', 'kolletjie', 'kolofonium', 'kolom', 'kolwer', 'kolwers', 'kom', 'kombinasie', 'kombineer', 'kombuis', 'komedie', 'komeet', 'kommersi', 'kommersieel', 'kommissie', 'kommunikasie', 'komplekse', 'kompromie', 'kon', 'koning', 'koningin', 'koninginvervanging', 'konsepte', 'konserttoer', 'konusse', 'konveksie', 'konveksiestroom', 'kook', 'kookolie', 'kookpunt', 'koolhidrate', 'koolsuur', 'koop', 'kop', 'kopersel', 'koperstukkies', 'kopie', 'koppe', 'koppel', 'koppies', 'koreane', 'koring', 'korrek', 'kort', 'korwe', 'kos', 'koshuisgebou', 'kosmolo', 'koue', 'kouer', 'kpah', 'kraaifontein', 'kraanwater', 'krag', 'kragdraad', 'kragmetings', 'kragopwekking', 'kragprop', 'kragte', 'krambergreeks', 'krieketraad', 'krieketspanne', 'krieketspeler', 'kriekettoetswedstryd', 'krieketveld', 'krisis', 'kritici', 'kronkel', 'kroon', 'kroonstad', 'krop', 'kruistog', 'kry', 'krynauw', 'kuifie', 'kultus', 'kultuur', 'kundiges', 'kuns', 'kunsaas', 'kunsmis', 'kusdorp', 'kusgebied', 'kusstruikbos', 'kwaad', 'kwacha', 'kwadratiese', 'kwamashu', 'kwarke', 'kwart', 'kwartlyn', 'kwazulu', 'kweekhuis', 'kweekhuiseffek', 'kweekhuisgasse', 'kwesbaar', 'kyk', 'l', 'la', 'laag', 'laaglandfynbos', 'laagste', 'laaie', 'laaipan', 'laaisoldaat', 'laaitjie', 'laat', 'laboratorium', 'laboratoriumjas', 'labuschagne', 'lace', 'lading', 'ladings', 'ladybrand', 'lae', 'laer', 'laerskole', 'laerskool', 'laid', 'laingsburg', 'lake', 'laken', 'lamps', 'land', 'landbou', 'landoppervlakte', 'landswapen', 'lang', 'langer', 'langs', 'langsdorff', 'langspeelplate', 'langwe', 'lank', 'lanka', 'lanklaas', 'lanseerstruktuur', 'lap', 'lappie', 'large', 'larsen', 'larwe', 'last', 'lasted', 'lategan', 'later', 'laude', 'laughed', 'laughter', 'launched', 'law', 'lawa', 'laws', 'lay', 'le', 'leaped', 'leapt', 'learned', 'least', 'leaving', 'lebeko', 'lede', 'leef', 'leeftyd', 'leem', 'leer', 'leerbal', 'leerders', 'leerlinge', 'leervisse', 'leeuplaas', 'leeus', 'left', 'leg', 'legende', 'legged', 'leghorns', 'lehlohonolo', 'lei', 'leicester', 'leidraad', 'leie', 'leier', 'leiers', 'leierskap', 'leisure', 'lektore', 'lemoensap', 'lengte', 'length', 'lens', 'lente', 'leonardo', 'leopold', 'lepels', 'leraar', 'lesings', 'less', 'lesser', 'let', 'letsholonyane', 'letter', 'lewe', 'lewend', 'lewensduur', 'lewensmaat', 'lewis', 'liberty', 'lie', 'liefhebbers', 'lieflingseun', 'lieg', 'lies', 'life', 'lifted', 'lig', 'liga', 'ligenergie', 'liggaam', 'liggaamsbedekking', 'liggaamsreuk', 'liggies', 'ligminuut', 'ligte', 'ligwaas', 'lik', 'like', 'limfbuise', 'limfkapill', 'limfknope', 'limfvate', 'limits', 'limpopo', 'lincoln', 'linde', 'lindeque', 'linderman', 'lindokuhle', 'line', 'lines', 'lingered', 'lingo', 'liniaal', 'linkerhand', 'links', 'lint', 'lion', 'lions', 'lipiede', 'lippe', 'lips', 'listened', 'litaue', 'liter', 'liters', 'litium', 'little', 'live', 'lived', 'liver', 'liverpool', 'living', 'lizaad', 'll', 'loaded', 'loei', 'log', 'logogram', 'lok', 'lokduiwe', 'lokomotief', 'londen', 'london', 'long', 'longe', 'longembolisme', 'longer', 'longslagaar', 'lonwabo', 'loodreg', 'loof', 'look', 'looked', 'looking', 'looks', 'loop', 'loopbaan', 'loopspruit', 'loose', 'loot', 'lop', 'lopies', 'lord', 'los', 'losgemaak', 'losie', 'losing', 'losper', 'lost', 'lotery', 'louis', 'louisa', 'love', 'lover', 'low', 'lower', 'ls', 'lu', 'lucas', 'lucia', 'lucky', 'lug', 'lugdeeltjie', 'lugdruk', 'luggat', 'lughawe', 'lugle', 'lugleegte', 'lugmag', 'lugruim', 'lugskip', 'luike', 'luislange', 'lusern', 'lush', 'luxemburg', 'luxuriant', 'luxury', 'ly', 'lydenburg', 'lyf', 'lying', 'lyk', 'lyn', 'lyne', 'lyngrafiek', 'm', 'maag', 'maagsappe', 'maahes', 'maaiers', 'maak', 'maal', 'maaltye', 'maan', 'maand', 'maandag', 'maantuig', 'maar', 'maatjies', 'maats', 'maatskappy', 'maatskappye', 'mab', 'mabel', 'mabizela', 'macdougall', 'machadodorp', 'maddening', 'made', 'madness', 'madrid', 'maelstrom', 'mag', 'magala', 'magaliesburg', 'magazine', 'maggie', 'magneet', 'magnetiese', 'magnificent', 'mahlambi', 'maintain', 'make', 'makes', 'makhubalo', 'maklik', 'maksimum', 'malabo', 'malawi', 'malelane', 'malherbe', 'malnutrition', 'maltreated', 'mamelodi', 'man', 'manage', 'managed', 'managing', 'manchester', 'mandic', 'mangaliso', 'manier', 'manifestation', 'manifested', 'mannetjie', 'mannetjies', 'mans', 'manuel', 'many', 'mara', 'marais', 'marble', 'march', 'maria', 'mariene', 'marion', 'maritzburg', 'market', 'markregte', 'marquard', 'married', 'mars', 'martha', 'martin', 'masekela', 'masel', 'mashadu', 'masibusane', 'masilela', 'masjien', 'masjiene', 'mass', 'massage', 'massiewe', 'mate', 'matebesi', 'materiaal', 'mathe', 'mathibe', 'mathoho', 'matjieshuis', 'matsi', 'matter', 'mature', 'mauled', 'max', 'maxima', 'may', 'mbali', 'mbanjwa', 'mbulelo', 'mccoy', 'mcfee', 'mcveigh', 'mdabuka', 'me', 'mean', 'meanwhile', 'measure', 'meat', 'medalje', 'medewerkers', 'medical', 'mediese', 'medium', 'mee', 'meel', 'meer', 'meerlagige', 'meermale', 'meervoud', 'meervoude', 'mees', 'meestal', 'meeste', 'meet', 'meeting', 'meeu', 'meeue', 'meganisme', 'megaskaal', 'mei', 'meiring', 'meisies', 'mekaar', 'meld', 'melding', 'melk', 'melkhoutpan', 'melkprodukte', 'melkskommels', 'melkweg', 'melmoth', 'membraan', 'membraanprote', 'memel', 'memories', 'men', 'meneer', 'meng', 'mengbak', 'mening', 'mens', 'mense', 'mercedes', 'mercy', 'mere', 'merk', 'merkbaar', 'merkie', 'merrivale', 'message', 'met', 'metaal', 'metaalpyp', 'meter', 'method', 'metielgroep', 'meting', 'metode', 'mev', 'mfulwane', 'mg', 'mgijima', 'michael', 'middag', 'middel', 'middeleeuse', 'midmorning', 'midstream', 'mielies', 'miemie', 'mieresuur', 'might', 'mike', 'mikrogolftegnologie', 'mikrograaf', 'mikroskoopskyfie', 'miles', 'miljard', 'miljoen', 'miller', 'milpark', 'min', 'mind', 'minder', 'minima', 'minimaal', 'minimum', 'minus', 'minute', 'minutes', 'minuut', 'mirage', 'mirth', 'mis', 'miskien', 'miskrame', 'missions', 'mistake', 'mitochondrium', 'mitologie', 'ml', 'mm', 'mmabatho', 'mngoma', 'mngqibisa', 'mnr', 'mobile', 'modder', 'model', 'modelhuispatroon', 'moderne', 'modimolle', 'moeder', 'moedig', 'moeg', 'moenie', 'moerasse', 'moes', 'moet', 'mofokeng', 'mohammed', 'moist', 'mokhere', 'mol', 'molekul', 'molekule', 'molekuul', 'molo', 'moloi', 'molokai', 'moment', 'momentum', 'monamodi', 'monargie', 'monday', 'money', 'mongole', 'mongoli', 'mono', 'monogaam', 'monogamie', 'monomeer', 'monomere', 'mononoom', 'monotipiese', 'month', 'monument', 'monyai', 'mooi', 'mooie', 'mooifontein', 'mooiman', 'mooinooi', 'mooirivier', 'mooiste', 'mooitjies', 'mooiweer', 'moontlik', 'moontlikhede', 'moord', 'moore', 'moose', 'more', 'moreel', 'moreki', 'morfeem', 'morfeme', 'morkel', 'morn', 'morne', 'morning', 'morris', 'mors', 'mortimer', 'mosambiek', 'mosea', 'mosehle', 'moseki', 'mosena', 'mosia', 'moskee', 'mosselbaai', 'most', 'motaung', 'mother', 'motor', 'motsamai', 'motshwari', 'mouth', 'moved', 'movements', 'moving', 'mpho', 'mpilo', 'mr', 'mrs', 'msomi', 'mthatha', 'mthokozisi', 'mtshali', 'much', 'mug', 'muis', 'muller', 'multivlak', 'munisipale', 'munisipaliteite', 'munte', 'muntstuk', 'muntstukke', 'murambadoro', 'mure', 'murmured', 'murmuring', 'murray', 'murraysburg', 'musiek', 'musiekgroep', 'musiekstroming', 'musikante', 'musina', 'muskiekgroep', 'must', 'muur', 'muurbal', 'muurprop', 'muzzle', 'my', 'myl', 'mynbou', 'mynbougebiede', 'myne', 'mynhardt', 'mynrehabilitasie', 'myself', 'mysterious', 'n', 'na', 'naam', 'naamlik', 'naastenby', 'naby', 'nadat', 'nael', 'nag', 'nagmaal', 'nagorno', 'nagumo', 'nakata', 'namate', 'name', 'namiddag', 'naomi', 'nashua', 'nasionale', 'nat', 'natal', 'native', 'natmaak', 'natriumhidroksied', 'natriumnitriet', 'natural', 'natuurlike', 'natuurskoon', 'nauseating', 'navigasie', 'navorsers', 'navorsing', 'navrae', 'naweekdae', 'nazeer', 'nbuie', 'ncwadi', 'ndiviwe', 'ne', 'near', 'nearer', 'nearly', 'nechbet', 'neck', 'nederland', 'nederlands', 'nederlandse', 'nee', 'need', 'needed', 'neef', 'neem', 'neer', 'neerbuig', 'negatief', 'negatiewe', 'nege', 'negentien', 'negentiende', 'negentig', 'neig', 'nek', 'neptunus', 'nervous', 'nes', 'nessies', 'neste', 'net', 'netjiese', 'neurie', 'neuriegeluide', 'neut', 'neute', 'neutraal', 'neutrale', 'neutralisasie', 'neutrone', 'never', 'nevertheless', 'new', 'newborn', 'newcastle', 'neweprodukte', 'newlands', 'newman', 'news', 'next', 'nhlapo', 'nicer', 'nicholas', 'nie', 'niemand', 'nieu', 'niggie', 'night', 'nightglow', 'niihau', 'nimrod', 'nipponium', 'njoloza', 'nkambule', 'nm', 'no', 'nobody', 'nod', 'nodada', 'nodded', 'nodig', 'noem', 'nog', 'nogal', 'nogtans', 'none', 'nonyane', 'noodlottig', 'nook', 'noord', 'noordelike', 'noordpole', 'noordpool', 'noorwe', 'noot', 'nope', 'normaalkrag', 'north', 'norwich', 'not', 'notas', 'noted', 'nothing', 'noticed', 'nou', 'noue', 'november', 'now', 'nowhere', 'nt', 'nte', 'ntombayithethi', 'ntshangase', 'ntuli', 'nul', 'nuuskierig', 'nuuts', 'nuutste', 'nuwe', 'nuwemaan', 'nuwighede', 'nvloed', 'nvoel', 'nwoudhabitat', 'nyadombo', 'o', 'oahu', 'oakland', 'obedience', 'obediently', 'obeyed', 'obeys', 'object', 'observed', 'obtain', 'obviously', 'occupants', 'occurred', 'odi', 'oefen', 'oerwoud', 'oerwoudtuiste', 'oewerbos', 'of', 'off', 'official', 'offset', 'ogawa', 'oggend', 'ogies', 'ohm', 'ohrigstad', 'oil', 'oilers', 'oksaalsuur', 'ol', 'olaf', 'old', 'olie', 'olienhoutboom', 'olifant', 'oligarchy', 'olimpiade', 'olyfkleur', 'olympia', 'om', 'omdat', 'omdraai', 'omgekeerd', 'omgepraat', 'omgesien', 'omgewing', 'omgewingsimpak', 'omgewingsopvoeding', 'omgewingsprobleem', 'omkring', 'omphile', 'omring', 'omskakel', 'omskep', 'omstandighede', 'omstrede', 'omstreeks', 'omtrek', 'omtrent', 'omvang', 'on', 'onafhanklik', 'onafhanklikwording', 'onbekend', 'onbekende', 'onbeperkte', 'onbeslis', 'once', 'onder', 'onderbewussyn', 'onderbreek', 'onderdele', 'ondergaan', 'onderhoof', 'onderhou', 'onderkaptien', 'onderneem', 'onderneming', 'ondersoek', 'ondertussen', 'onderwerp', 'onderwys', 'onderwyser', 'ondeursigtig', 'one', 'oneffektief', 'ongedefinieerd', 'ongelukkig', 'ongepubliseerde', 'ongetwyfeld', 'ongeveer', 'onismor', 'onkwesbaar', 'onlangse', 'only', 'onoorwonne', 'onreaktief', 'ons', 'onsigbaar', 'onstaan', 'onstuimig', 'ontbossing', 'ontbreek', 'ontdek', 'ontdekkings', 'onthou', 'ontmoet', 'ontplof', 'ontslae', 'ontstaan', 'onttrek', 'ontvang', 'ontwerp', 'onvermo', 'onverstoord', 'onverwags', 'onverwagse', 'onvolledig', 'onwaar', 'oog', 'oogsenuwee', 'oogstreep', 'ooievaarstee', 'ook', 'oolong', 'oomblik', 'oop', 'oopgehou', 'oopgroef', 'oopgroefmynbou', 'oophou', 'oopmaak', 'ooptyd', 'oor', 'oorbeweiding', 'oorbietjies', 'oorboord', 'oordoen', 'oordosis', 'oordromme', 'ooreen', 'oorgang', 'oorgange', 'oorgedra', 'oorgee', 'oorhandig', 'oorlede', 'oorleef', 'oorlog', 'oorlogskepe', 'oornag', 'oorskrei', 'oorsprong', 'oorspronklike', 'oorverhit', 'oorweeg', 'oorweging', 'oos', 'oostelike', 'ooze', 'op', 'opblaas', 'opbrengs', 'opbrengste', 'opdoen', 'opdrag', 'open', 'opened', 'opening', 'operasie', 'operasies', 'opesmukte', 'opgelos', 'opgemaak', 'opgemerk', 'opgerig', 'opgetooide', 'opgetree', 'opgevolg', 'oph', 'ophou', 'opleiding', 'oplos', 'oplossing', 'opneem', 'opnuut', 'oppervlak', 'oppervlakmynbou', 'oppervlaksgolwe', 'opposition', 'oppression', 'oppressive', 'oproep', 'oproepe', 'opskrif', 'opslaan', 'opsomming', 'opstyg', 'opsuig', 'opvolger', 'opwaarts', 'or', 'oranje', 'ordained', 'orde', 'order', 'ore', 'orgaan', 'organe', 'organic', 'organisme', 'organized', 'originate', 'orlando', 'orthodox', 'oseaan', 'osoon', 'ossweep', 'ostwaldproses', 'other', 'otherwise', 'ou', 'oud', 'ouderdom', 'oudergewoonte', 'oudste', 'oue', 'ouer', 'ouers', 'ought', 'ounooi', 'our', 'ourselves', 'out', 'outeniqua', 'outer', 'outobank', 'outonome', 'outrageous', 'outrun', 'outstretched', 'ouw', 'ova', 'over', 'overestimated', 'overseer', 'overt', 'overwhelmed', 'ovidy', 'ovulasie', 'ovum', 'owl', 'owls', 'own', 'oyster', 'oysters', 'p', 'pa', 'paaltjies', 'paaltjiewagter', 'paar', 'paartjie', 'paartjies', 'pad', 'paddaboudjies', 'paddas', 'paddling', 'paid', 'pain', 'paintsil', 'pair', 'pak', 'pakijanes', 'pakistan', 'pakkie', 'palace', 'paleis', 'palm', 'palmfamilie', 'palmolie', 'palmyraweg', 'pals', 'pampoen', 'pan', 'panteon', 'papier', 'papierchromatografie', 'papierhanddoek', 'papierherwinningsprojek', 'papiervesels', 'parabool', 'paradigma', 'paragrawe', 'pare', 'parenchiemselle', 'park', 'parke', 'parnell', 'part', 'particular', 'partly', 'partnership', 'party', 'partytjie', 'parys', 'pascal', 'pasi', 'pasquini', 'pass', 'passasiersvliegtuig', 'passed', 'passief', 'passionately', 'pasta', 'pastorale', 'pastorie', 'pat', 'paterson', 'patiently', 'patino', 'patrick', 'patrone', 'patroon', 'paul', 'paulpietersburg', 'paused', 'paw', 'pawiljoene', 'pay', 'peace', 'pearce', 'peddie', 'pedofiel', 'pedofilie', 'pels', 'pelser', 'penne', 'pennington', 'pent', 'people', 'peper', 'per', 'perde', 'perdepram', 'perhaps', 'period', 'periode', 'perpetual', 'perrault', 'perseel', 'persentasie', 'persian', 'persistent', 'persone', 'personeel', 'persoon', 'persoonlike', 'perspeksstaaf', 'perspektiewe', 'petagreep', 'peterborough', 'peterson', 'petim', 'petitioned', 'petrus', 'peule', 'ph', 'phakamani', 'phil', 'philip', 'phillip', 'phorus', 'phumlani', 'phylum', 'physique', 'pi', 'piano', 'picked', 'picture', 'piek', 'pienaar', 'piering', 'pierre', 'piesangs', 'piet', 'pietermaritzburg', 'pike', 'pinetown', 'pipes', 'pirates', 'pitched', 'pitte', 'plaas', 'plaasgrond', 'plaaslik', 'plaaslike', 'plaasvind', 'plaatkoekies', 'place', 'plain', 'plan', 'planeet', 'planete', 'planke', 'plankies', 'plans', 'plant', 'plantation', 'plantprodukte', 'plase', 'plastiek', 'plastiekblok', 'platinum', 'plato', 'platvorm', 'plausible', 'plaveisel', 'playing', 'please', 'pleasure', 'pleeg', 'pleister', 'plek', 'plekke', 'plentiful', 'plenty', 'plofstowwe', 'plooibare', 'plooy', 'pluimvee', 'poedelkaal', 'poedelnaak', 'poem', 'poet', 'poetin', 'poging', 'pointing', 'points', 'poise', 'poisonous', 'pol', 'pole', 'poli', 'poligamie', 'polimeer', 'polimerisasie', 'polinoom', 'politiek', 'politieke', 'polokwane', 'pols', 'pomeroy', 'pomp', 'pongola', 'poor', 'poorte', 'pophuis', 'port', 'portuguese', 'pos', 'posduiwe', 'positief', 'positiewe', 'possession', 'postma', 'postmoderne', 'postpone', 'postuum', 'potensi', 'potlode', 'pots', 'pound', 'pounded', 'pounds', 'pous', 'powerful', 'pragtige', 'prayers', 'preacher', 'preachers', 'preceding', 'predisposition', 'preek', 'preez', 'preferring', 'prefrontalia', 'premier', 'premierliga', 'prent', 'prepared', 'presage', 'president', 'pressing', 'pressure', 'prestasie', 'prestige', 'pretoria', 'pretorius', 'prettige', 'prevailed', 'price', 'primeval', 'princess', 'principally', 'privaatlewe', 'privaatmaatskappy', 'privileges', 'probeer', 'probleem', 'processes', 'produbruikers', 'produces', 'producing', 'production', 'productions', 'produk', 'produksie', 'produkte', 'produseer', 'produseerders', 'proefbuis', 'proefplaas', 'proeftydperk', 'prof', 'professional', 'professor', 'profit', 'projektiele', 'promise', 'promosie', 'promoter', 'prooi', 'prooitjies', 'proposed', 'proposition', 'prosedure', 'proses', 'prosesse', 'prostrate', 'prostration', 'prote', 'protection', 'protege', 'protone', 'proved', 'providence', 'provinsie', 'provocateurs', 'prys', 'psigososiale', 'psigoterapie', 'psl', 'psychology', 'puberteit', 'public', 'publikasie', 'publikasies', 'puffy', 'pule', 'pulp', 'punt', 'puntbronne', 'punte', 'puntladings', 'put', 'puttick', 'puzzled', 'pyl', 'pylos', 'pypbom', 'pypbomme', 'pyrocumulus', 'quadrivium', 'quadrupling', 'quarrel', 'quart', 'quarter', 'question', 'questions', 'quick', 'quickly', 'quiet', 'quietly', 'quinton', 'quite', 'quotations', 'quoting', 'qwabe', 'r', 'raad', 'raai', 'raaisel', 'raaiselagtig', 'raaisels', 'raak', 'raam', 'raamstrukture', 'rabada', 'rademan', 'rage', 'raided', 'rail', 'railroad', 'railway', 'rakke', 'ramatsa', 'ramela', 'raming', 'ramsgate', 'ran', 'rancho', 'randburg', 'rande', 'rantie', 'raoul', 'rapidly', 'rapporteer', 'rasegte', 'rasionaal', 'rasionaliteit', 'rate', 'rateltaai', 'rautenbach', 'raw', 'raymond', 'rays', 'rdineer', 're', 'read', 'reageer', 'reaksie', 'reaktiewe', 'real', 'rebellious', 'recognizing', 'recollection', 'reconciled', 'red', 'redding', 'rede', 'redelik', 'redes', 'redoksreaksie', 'reduksie', 'reduseermiddel', 'ree', 'reeds', 'reeks', 'refugee', 'refused', 'reg', 'regatta', 'regdeur', 'reggaeton', 'reghoek', 'reghoeke', 'reghoekig', 'reghoekige', 'reghou', 'regoor', 'regop', 'regs', 'regterhand', 'regtig', 'reguit', 'reguitlyn', 'reguitlyngrafiek', 'regular', 'regverdigbaar', 'reis', 'reitz', 'rek', 'reken', 'rekening', 'rekeninge', 'rekenmeester', 'rekkie', 'relatief', 'reld', 'reldbeker', 'reldse', 'reldwyd', 'released', 'remained', 'remember', 'remme', 'rendezvous', 'reneilwe', 'reorganization', 'replied', 'reply', 'reports', 'reptiel', 'reptiele', 'republiek', 'republikeinse', 'require', 'res', 'resemblance', 'resep', 'resepteboek', 'resident', 'resisted', 'resources', 'rest', 'restaurants', 'rested', 'restriction', 'resultant', 'resultate', 'resumed', 'retief', 'return', 'returns', 'reuk', 'revealed', 'revenge', 'review', 'revolvers', 'reward', 'rhythm', 'rhythms', 'richardsbaai', 'ricky', 'rider', 'ridge', 'rieme', 'rifle', 'rifles', 'right', 'rigting', 'rilee', 'ringing', 'rio', 'rising', 'river', 'rivier', 'riviere', 'riviertjie', 'riwwe', 'road', 'robbe', 'robbery', 'robert', 'roberts', 'robes', 'robin', 'rock', 'rocks', 'rodium', 'roei', 'roemeni', 'roeping', 'roer', 'roes', 'roesbruin', 'roete', 'rofweg', 'rofwerkpapier', 'rog', 'roll', 'rolled', 'rome', 'rond', 'rondom', 'ronwen', 'roodepoort', 'rooi', 'rooibaard', 'rooibekspreeu', 'rooibokke', 'rooibruin', 'rooierige', 'rooies', 'rooigrond', 'rooikaart', 'rooiklei', 'rooirosie', 'rooisee', 'room', 'roomys', 'roos', 'roosevelt', 'rooy', 'rory', 'rose', 'rossouw', 'rot', 'rots', 'rotsagtige', 'rotse', 'round', 'roux', 'roy', 'royal', 'rs', 'rskole', 'rskoolafdeling', 'rudi', 'ruik', 'ruimtedoeltreffend', 'ruimtehysbakke', 'ruimtetuie', 'ruin', 'ruiter', 'ruk', 'rumors', 'run', 'rus', 'rush', 'rushed', 'rusie', 'rusland', 'russel', 'russia', 'russies', 'rust', 'rustenburg', 'rustende', 'ry', 'rye', 'ryk', 'rykdom', 'rym', 'ryp', 'rypwording', 'rys', 's', 'sa', 'saailinge', 'saal', 'saam', 'saampersbaar', 'saamsmelt', 'saamstem', 'saamwerk', 'saayman', 'sad', 'sade', 'sahara', 'said', 'sailed', 'sake', 'sakhile', 'saki', 'sal', 'salpetersuur', 'salt', 'same', 'samelewing', 'samesprekings', 'samewerking', 'sammy', 'samsara', 'samurai', 'san', 'sandilands', 'sap', 'sarcastically', 'sat', 'saturdag', 'satyagraha', 'saudi', 'saul', 'savage', 'savanne', 'save', 'saw', 'saxon', 'say', 'saying', 'says', 'scarcely', 'scared', 'schedule', 'schoeman', 'school', 'schoolboy', 'schooner', 'scott', 'scottish', 'scrap', 'screamed', 'scrubbing', 'se', 'sea', 'seafaring', 'seal', 'searching', 'seat', 'seawater', 'sebone', 'second', 'secure', 'sedert', 'see', 'seegolwe', 'seegrasbeddings', 'seeing', 'seeland', 'seemed', 'seemonster', 'seems', 'seemyl', 'seen', 'seer', 'seespie', 'seevlak', 'seevo', 'segolela', 'sekere', 'sekondes', 'seksie', 'sekul', 'sel', 'selberg', 'selden', 'seldsaam', 'self', 'selfmoord', 'selfs', 'sellae', 'selle', 'send', 'senekal', 'sensation', 'sensitiewe', 'sensitive', 'sensitiveness', 'sent', 'senter', 'sentraal', 'senuweebondels', 'senuwees', 'senwes', 'separated', 'seremonieel', 'serenje', 'serie', 'servants', 'service', 'ses', 'sesriem', 'sessies', 'sestien', 'sestig', 'set', 'seun', 'seuns', 'seven', 'seventeen', 'sewe', 'sewentien', 'sewentiende', 'sewentig', 'shadow', 'shadows', 'shake', 'shaking', 'shall', 'shamsi', 'shandu', 'shaped', 'sharks', 'sharp', 'sharply', 'shave', 'shaven', 'she', 'sheer', 'sheldon', 'sheltered', 'sherman', 'shield', 'shining', 'ship', 'shook', 'shoot', 'shore', 'shores', 'shoreward', 'short', 'shorter', 'shot', 'should', 'shoulder', 'shouted', 'shoved', 'show', 'showed', 'shrewdly', 'shuffled', 'shunk', 'siberia', 'sibusiso', 'sick', 'side', 'siekte', 'siembamba', 'sien', 'sierduiwe', 'sierlike', 'sign', 'silhouette', 'simon', 'simple', 'simulasie', 'sin', 'since', 'sincuba', 'sinewy', 'sing', 'singing', 'single', 'sink', 'sir', 'sirenes', 'sirkel', 'sirkuleer', 'sisonda', 'sit', 'sithole', 'sitkamer', 'sitting', 'situation', 'sixteen', 'siya', 'siyabonga', 'sjina', 'sjinese', 'sjokolade', 'skaal', 'skaapboerdery', 'skaars', 'skaduwee', 'skagmynbou', 'skakel', 'skakering', 'skape', 'skapies', 'skatryk', 'skeefheid', 'skei', 'skeidsregter', 'skeidsregters', 'skenk', 'skep', 'skepe', 'skeppies', 'skerm', 'skerp', 'sketch', 'sketchy', 'skielik', 'skielike', 'skiet', 'skietramp', 'skip', 'skoene', 'skool', 'skoolhoof', 'skoolkamp', 'skoolkoshuis', 'skooltas', 'skoon', 'skoot', 'skotland', 'skouspelagtige', 'skrapie', 'skrapnel', 'skryf', 'skuif', 'skuifspeld', 'skuifspelde', 'skuins', 'skukuza', 'skuld', 'skuldig', 'skuur', 'sky', 'skyn', 'skynbaar', 'skyrim', 'slaaf', 'slaan', 'slaapkamers', 'slagspreke', 'slak', 'slammed', 'slap', 'slawiese', 'sleep', 'sleeping', 'sleepwa', 'sleg', 'slegs', 'sleutel', 'slight', 'slightest', 'slightly', 'slinkse', 'sloping', 'sluise', 'sluiswagters', 'sluit', 'smaak', 'smaakknoppies', 'smal', 'smaller', 'smash', 'smelt', 'smeltpunt', 'smile', 'smiled', 'smiling', 'smoking', 'smooth', 'smuts', 'snags', 'snap', 'snatched', 'sneeu', 'snelbouler', 'snelhede', 'snelheid', 'snelweg', 'snoepwinkels', 'snorting', 'snowy', 'sny', 'snydende', 'so', 'soaked', 'sob', 'soccer', 'society', 'sodat', 'sodoende', 'sodra', 'soek', 'soeterige', 'soft', 'softly', 'sogenaamd', 'sogenaamde', 'soil', 'soja', 'sokker', 'sokkerliga', 'sokkerw', 'soldaat', 'soldate', 'soliede', 'solomon', 'som', 'somaeb', 'some', 'something', 'sometimes', 'sommige', 'soms', 'somtyds', 'son', 'sondag', 'sonder', 'sonnig', 'sonop', 'soogdiere', 'sooibrand', 'soois', 'soon', 'soort', 'soorte', 'soortgelyke', 'soos', 'sop', 'sophomoric', 'sosiale', 'sou', 'soul', 'sound', 'sout', 'southampton', 'soutsuur', 'soveel', 'sowat', 'sowel', 'soweto', 'sowjet', 'sowjetunie', 'spaar', 'spaargeld', 'spal', 'span', 'spandeer', 'spanje', 'spare', 'spat', 'speak', 'spears', 'specially', 'spectacular', 'speel', 'speeldeeg', 'speelklei', 'spel', 'spelery', 'speletjies', 'spell', 'sperm', 'spermsel', 'speserye', 'spesiaal', 'spesiale', 'spesie', 'spesies', 'spesifieke', 'spie', 'spiere', 'spierweefsel', 'spink', 'spite', 'splinternuwe', 'spoed', 'spoggerige', 'spokesman', 'spookdorp', 'spoorlyn', 'sports', 'sportsoort', 'spot', 'spottend', 'spouting', 'sprake', 'spreeu', 'spreeus', 'sprigg', 'spring', 'springmielies', 'springy', 'sproeiers', 'sproeistorte', 'spur', 'sri', 'st', 'staafgrafiek', 'staafmagneet', 'staan', 'staatsman', 'stabiliteit', 'stable', 'stad', 'stadig', 'stadion', 'stadium', 'stam', 'stamme', 'stamp', 'standerton', 'stap', 'stappe', 'stared', 'stargate', 'staring', 'stars', 'started', 'startling', 'starvation', 'stasion', 'state', 'statement', 'states', 'status', 'ste', 'steadily', 'steamboats', 'stedelike', 'steeds', 'steekproef', 'steel', 'steels', 'steenkamp', 'steenkool', 'stefan', 'stel', 'stelsels', 'steltberg', 'stem', 'stemreg', 'step', 'stepped', 'sterf', 'sterk', 'sterre', 'steve', 'steward', 'steyn', 'sticks', 'stifling', 'still', 'stimuleer', 'sting', 'stir', 'stoke', 'stokperdjie', 'stokperdjies', 'stone', 'stood', 'stoomopwekking', 'stooped', 'stoor', 'stoot', 'stop', 'stopped', 'stopverf', 'storm', 'stout', 'stowwe', 'straal', 'straat', 'strafskop', 'strafskoppe', 'straight', 'straightforward', 'strained', 'stralers', 'strange', 'stranger', 'strap', 'streaks', 'streaming', 'streek', 'street', 'strek', 'strength', 'strepie', 'string', 'striving', 'strominge', 'strooi', 'strooijonker', 'stroom', 'stroombaan', 'stroombaandiagram', 'stroomelektrisiteit', 'struck', 'strukture', 'struktuur', 'struwelende', 'stry', 'strydenburg', 'stuart', 'stubby', 'studeer', 'studente', 'studie', 'studies', 'stuk', 'stukkies', 'stuur', 'styg', 'sub', 'subatomiese', 'subeenhede', 'submerged', 'successfully', 'such', 'sudden', 'suddenly', 'suddenness', 'sufficient', 'sugar', 'suggested', 'suid', 'suide', 'suidelike', 'suidkus', 'suidpole', 'suidpool', 'suidwes', 'suiker', 'suiwelboerdery', 'sukses', 'suksesvol', 'suksesvolle', 'sulke', 'summier', 'sun', 'sunderland', 'sundowns', 'sunfoil', 'sunshine', 'superior', 'superlative', 'supersoniese', 'supersport', 'supper', 'suppose', 'suppressed', 'sure', 'surely', 'surpluses', 'surprise', 'surrogaatouers', 'suspensies', 'suspiciously', 'suster', 'susters', 'sutherland', 'suur', 'suuragtig', 'swaar', 'swael', 'swaelsuur', 'swaeltjies', 'swaer', 'swak', 'swam', 'swanesang', 'swangerskap', 'swansea', 'swart', 'swartkopwielewaal', 'swartsee', 'swawelsuur', 'swede', 'sweef', 'sweeping', 'sweet', 'sweetly', 'swelling', 'swung', 'sy', 'sydney', 'sye', 'syfers', 'sympathy', 't', 'taai', 'taal', 'tabak', 'tabakplaas', 'tabel', 'table', 'tablet', 'taboo', 'tabraiz', 'tacit', 'tafel', 'tagtig', 'take', 'takson', 'taksonomie', 'tale', 'talked', 'talle', 'tambo', 'tans', 'tanzani', 'tap', 'tapped', 'taught', 'taut', 'taylor', 'te', 'tear', 'tearing', 'tebogo', 'tee', 'teelepel', 'teelepels', 'teen', 'teenoor', 'teenstelling', 'teenwoordig', 'teeth', 'teetyd', 'teetye', 'tegniese', 'tegnologie', 'tegnologieprojek', 'tegnologiese', 'teken', 'tekeninge', 'teks', 'tel', 'telekommunikasie', 'teleskoop', 'telkens', 'tell', 'telling', 'telwoord', 'temba', 'temperature', 'temperatuur', 'tempo', 'temptation', 'ten', 'tenk', 'tension', 'tent', 'ter', 'terapie', 'terg', 'term', 'terme', 'terminale', 'terreur', 'terrible', 'terribly', 'terror', 'terroriste', 'tersely', 'terug', 'terugbetaal', 'terugkeer', 'terugneem', 'terugplaas', 'terugplasing', 'terwyl', 'test', 'tevergeefs', 'thabazimbi', 'thabiso', 'thabo', 'thailand', 'thakasani', 'thami', 'than', 'thank', 'that', 'thaw', 'the', 'their', 'them', 'themba', 'themselves', 'then', 'theodosius', 'there', 'therefore', 'these', 'thetis', 'theunis', 'theunissen', 'they', 'thieves', 'thing', 'things', 'think', 'third', 'thirst', 'thirty', 'this', 'thobeka', 'thohoyandou', 'thomas', 'thoroughly', 'thorpe', 'those', 'though', 'thought', 'thousand', 'three', 'thrill', 'through', 'throughout', 'throw', 'thrust', 'thulani', 'thursday', 'thus', 'tico', 'tide', 'tien', 'tienerseun', 'tienjarige', 'tightly', 'tignyemb', 'tiisetso', 'tik', 'time', 'tinted', 'tipe', 'tipies', 'tipiese', 'tis', 'tjaart', 'tjalie', 'tjirp', 'tjoekoikoi', 'tjokkers', 'tjokkertjies', 'tjoklit', 'tjoppie', 'tjoppies', 'tjor', 'tlou', 'to', 'tobacco', 'tobias', 'today', 'toe', 'toegang', 'toegangskaartjie', 'toeganklik', 'toegeken', 'toegekyk', 'toelaat', 'toename', 'toeneem', 'toepassing', 'toepassings', 'toer', 'toeris', 'toernooi', 'toesig', 'toesprake', 'toestand', 'toestande', 'toets', 'toetshonderdtalle', 'toetskrieket', 'toetslopies', 'toetswedstryd', 'toevlug', 'tog', 'together', 'tokelo', 'told', 'toljatti', 'tom', 'tomfoolery', 'tomorrow', 'tong', 'tongaat', 'tongue', 'tonic', 'tonnel', 'tony', 'too', 'took', 'toon', 'toonhoogte', 'tooth', 'toothbrush', 'topvlakdomein', 'toring', 'toriq', 'torpedo', 'tot', 'totaal', 'totdat', 'tottenham', 'toutologie', 'toward', 'town', 'toyi', 'track', 'tradisioneel', 'tradisionele', 'trail', 'trapsgewys', 'travis', 'treacherous', 'tree', 'trees', 'tref', 'treine', 'treinstasie', 'trek', 'trekking', 'tremendous', 'trick', 'trickle', 'tried', 'trikuspidale', 'triljoen', 'trip', 'triumphantly', 'troeteldiere', 'trompsburg', 'tronke', 'trop', 'trou', 'trui', 'truth', 'trying', 'trystin', 'tsakane', 'tseko', 'tshepo', 'tshidiso', 'tsolekile', 'tsotsobe', 'tswane', 'tugela', 'tuin', 'tuine', 'tuinmaak', 'tuis', 'tuiswerk', 'tulbagh', 'tumelo', 'tumi', 'turkye', 'turned', 'turning', 'turns', 'tussen', 'twaalf', 'twee', 'tweede', 'tweedebeurt', 'tweekeer', 'tweeledige', 'tweelingbroer', 'tweespruit', 'tweetal', 'twentieth', 'twenty', 'twintig', 'two', 'twyfel', 'tyd', 'tydens', 'typewritten', 'typhoid', 'u', 'uefa', 'uit', 'uitbeeld', 'uitdaging', 'uitdagings', 'uitdrukking', 'uitdrukkings', 'uiteenlopende', 'uiteindelik', 'uiteindelike', 'uitenhage', 'uitermatig', 'uitermatige', 'uitgang', 'uitgangspunt', 'uitgawes', 'uitgebeeld', 'uitgeboul', 'uitgebrei', 'uitgee', 'uitgegooi', 'uitgegrawe', 'uitgehol', 'uitgevoer', 'uitgewis', 'uitkenbare', 'uitkies', 'uitklopstryd', 'uitkoms', 'uitkykposte', 'uitkykpunt', 'uitlegplan', 'uitloop', 'uitoefen', 'uitsakkingtenk', 'uitset', 'uitskeiding', 'uitsondering', 'uitstekende', 'uitvind', 'uitvoerprodukte', 'uitwerk', 'ulaanbaatar', 'umhlanga', 'umlazi', 'uncompromising', 'unconsciously', 'undecided', 'under', 'unexpected', 'unfair', 'unfolded', 'unieke', 'uninteresting', 'united', 'universiteit', 'university', 'unquenchable', 'until', 'unto', 'untoward', 'unusual', 'unwin', 'up', 'upon', 'ure', 'urged', 'urikhob', 'us', 'use', 'uttered', 'uur', 'uzbekistan', 'v', 'vaal', 'vaalwater', 'vaar', 'vaartskepe', 'vacation', 'vader', 'vaguely', 'vainly', 'vakansie', 'vakuum', 'vakwerk', 'vakwerkboogbrug', 'val', 'valer', 'valiantly', 'value', 'values', 'vampire', 'van', 'vanaand', 'vanaf', 'vandag', 'vanderbijlpark', 'vang', 'vangers', 'vanuit', 'vanwe', 'vas', 'vasgestel', 'vasgevang', 'vaste', 'vaulting', 've', 'vee', 'veel', 'veelkleurige', 'veelvoud', 'veertien', 'veertig', 'vegetation', 'veilig', 'veiligheid', 'veiligheidsbril', 'veiligheidsre', 'vektore', 'vel', 'veld', 'velde', 'veldgids', 'veldwerkers', 'veldwerkposisies', 'vele', 'velnias', 'velocity', 'venom', 'ventersburg', 'venus', 'ver', 'verafgele', 'verander', 'verbasend', 'verbasing', 'verbeel', 'verbeter', 'verbied', 'verbou', 'verbrande', 'verbreed', 'verbruik', 'verby', 'verdedig', 'verdediger', 'verdeel', 'verder', 'verdere', 'verdiepings', 'verduidelik', 'verdwyn', 'vere', 'vereenvoudigde', 'vereis', 'verf', 'vergelyk', 'vergete', 'verhemelte', 'verhoef', 'verhoging', 'verifieer', 'verjaar', 'verkeerdelik', 'verkeersvolume', 'verkies', 'verkiesing', 'verklaar', 'verklaarbaar', 'verklaring', 'verkoop', 'verkry', 'verlaat', 'verlief', 'verlig', 'verligting', 'verlof', 'verloof', 'verloofde', 'verloop', 'verloor', 'vermenigvuldig', 'vermeulen', 'verneem', 'vernietig', 'vernietiging', 'vernoem', 'veroorsaak', 'verouderd', 'verplaas', 'verpletter', 'verrig', 'verskaf', 'verskeidenheid', 'verskeie', 'verskillende', 'verskuif', 'verskyn', 'verskynsel', 'versoek', 'versteende', 'verstrooide', 'verswakkende', 'vertel', 'vertikaal', 'vertikale', 'vertoning', 'vertraag', 'vertrek', 'vertrekpunt', 'vertrou', 'vervaardig', 'vervang', 'vervoer', 'vervul', 'verwag', 'verwagting', 'verwarmer', 'verwarring', 'verweer', 'verwees', 'verwerp', 'verwikkelinge', 'verwyder', 'verwys', 'very', 'vessel', 'vestig', 'vetinhoud', 'via', 'vibreer', 'victoria', 'victory', 'vier', 'vierde', 'vierdebeurt', 'vierhoek', 'vierkeer', 'view', 'vilas', 'viljoen', 'villa', 'villiers', 'vind', 'vingers', 'vinnig', 'vinnige', 'vinniger', 'violated', 'violation', 'violence', 'violent', 'vir', 'virtue', 'visagie', 'vision', 'visions', 'vital', 'vitality', 'vitamien', 'vivo', 'vladimir', 'vlae', 'vlag', 'vlak', 'vlam', 'vlambaarheid', 'vleis', 'vlerke', 'vlerkpunt', 'vlermuise', 'vleuel', 'vlie', 'vlieg', 'vliegdekskepe', 'vliegtuie', 'vliegtuig', 'vloei', 'vloeistof', 'vloeistowwe', 'vloerplan', 'vlooie', 'vloot', 'vlug', 'vo', 'vocabulary', 'voedingstowwe', 'voedsel', 'voeg', 'voel', 'voer', 'voertuie', 'voertuig', 'voet', 'voetspore', 'vogtig', 'voice', 'vol', 'volcano', 'voldoende', 'volg', 'volgehou', 'volgende', 'volgens', 'volgorde', 'volgroeide', 'volhouding', 'volksmoord', 'volledig', 'vollengte', 'vollengtealbum', 'volop', 'volschenk', 'volume', 'volwasse', 'volwassene', 'volwassenes', 'vonk', 'vonke', 'voor', 'voorbeeld', 'voorbeelde', 'voordat', 'voorganger', 'voorgelees', 'voorheen', 'voorkom', 'voorlegging', 'voorman', 'voorrang', 'voorreg', 'voorsiening', 'voorspel', 'voorspeler', 'voorspelling', 'voorsprong', 'voorstede', 'voorstel', 'voort', 'voortaan', 'vooruit', 'voorval', 'voorvoegsels', 'voorwaarts', 'voorwerp', 'voorwerpe', 'vorentoe', 'vorm', 'vormige', 'vorms', 'vosloorus', 'voue', 'voyage', 'vra', 'vraag', 'vrae', 'vragmotor', 'vrede', 'vredenburg', 'vreeslose', 'vreet', 'vriend', 'vriende', 'vriendelike', 'vriendinne', 'vroe', 'vroeg', 'vrou', 'vroue', 'vrouens', 'vroukuiken', 'vroulike', 'vrugbaar', 'vrugbaarheidsgodin', 'vruggies', 'vrugte', 'vrugteloos', 'vry', 'vrydag', 'vryf', 'vrygewige', 'vryskop', 'vrystyl', 'vuka', 'vukile', 'vul', 'vulkaan', 'vulkaanrots', 'vulstasie', 'vuur', 'vuurherd', 'vuurhoutjie', 'vuurhoutjies', 'vuurmaakhoud', 'vuurpyl', 'vuurpyle', 'vuurpylmotor', 'vuurtorings', 'vuurwerke', 'vuyisile', 'vyand', 'vyf', 'vyfde', 'vyftien', 'vyftig', 'w', 'waar', 'waardeur', 'waardevolle', 'waarheid', 'waarin', 'waarmee', 'waarneem', 'waarnemings', 'waarom', 'waarskuwing', 'waarskynlikheidseksperiment', 'waarvan', 'waarvoor', 'wada', 'waded', 'wag', 'waikiki', 'waited', 'waiting', 'wakker', 'walk', 'walked', 'walt', 'walvisse', 'wange', 'wangedrag', 'wanneer', 'want', 'wanted', 'wapens', 'warden', 'ware', 'warm', 'warmlugballon', 'warriors', 'was', 'wasbank', 'wash', 'washed', 'wat', 'watch', 'water', 'watergolwe', 'watermolekules', 'waters', 'waterstof', 'waterval', 'watford', 'watter', 'wave', 'waving', 'way', 'wayde', 'wayne', 'we', 'wear', 'wedela', 'wedloop', 'wednesday', 'wedren', 'wedstryd', 'wedstryde', 'weduwee', 'weef', 'weefsel', 'weefsels', 'weeg', 'week', 'weeks', 'weenen', 'weens', 'weer', 'weerdiens', 'weergawe', 'weermag', 'weerwil', 'wees', 'weesmeisie', 'weet', 'weg', 'wegdra', 'wegsleep', 'weier', 'weigh', 'weight', 'weiroom', 'weke', 'wel', 'well', 'wen', 'wenk', 'went', 'wepener', 'were', 'weren', 'werk', 'werkers', 'werknemer', 'werksaam', 'werksdag', 'werksgeleenthede', 'werner', 'wes', 'west', 'westelike', 'wet', 'wetenskaplike', 'what', 'wheel', 'when', 'where', 'wherein', 'which', 'while', 'whipped', 'whipping', 'white', 'whittemore', 'whiz', 'who', 'whoever', 'whole', 'whose', 'why', 'wie', 'wiel', 'wiele', 'wiese', 'wife', 'wil', 'wild', 'wilderness', 'wildly', 'will', 'william', 'williams', 'willing', 'willowmoore', 'winburg', 'wind', 'winkel', 'wins', 'wise', 'wiskunde', 'wit', 'with', 'within', 'without', 'wits', 'witvlieg', 'woensdag', 'woestyn', 'wolf', 'wolk', 'wolke', 'wolskape', 'wolwespruit', 'woman', 'womble', 'women', 'won', 'wonder', 'wonderful', 'wonings', 'wood', 'woon', 'woonstel', 'woord', 'woorde', 'woordprobleme', 'worcester', 'word', 'words', 'work', 'worked', 'works', 'world', 'worries', 'worshiped', 'wortelstelels', 'worth', 'wou', 'woude', 'would', 'wouldn', 'wounded', 'writing', 'wyd', 'wydlopers', 'wydverstrooid', 'wye', 'wyfie', 'wyfies', 'wyk', 'wykstakke', 'wyle', 'wys', 'wyshede', 'xander', 'yap', 'yards', 'yea', 'year', 'yearning', 'years', 'yelled', 'yellow', 'yells', 'yende', 'yeomanry', 'yes', 'yet', 'yielded', 'yl', 'ylerige', 'yoke', 'york', 'yorkshire', 'you', 'young', 'younger', 'your', 'yourself', 'youth', 'youths', 'ys', 'ysbad', 'ysblokkie', 'ysblokkies', 'ysies', 'yskerne', 'yskoue', 'yster', 'yukon', 'z', 'zack', 'zackie', 'zaire', 'zakhele', 'zakkie', 'zama', 'zambesi', 'zambi', 'zambiese', 'zanzibar', 'zastron', 'zebra', 'zebras', 'zebravis', 'zeekoeivlei', 'zeeman', 'zeerust', 'zef', 'zefman', 'zen', 'zietsman', 'zimbabwe', 'zimmerman', 'zip', 'ziyaad', 'zoeloe', 'zoeloeland', 'zoem', 'zola', 'zombies', 'zongo', 'zoologie', 'zoutpan', 'zuma', 'zvasiya', 'zwane']\n"
     ]
    }
   ],
   "source": [
    "def preprocess_data(data_file_name, nonums_data_file_name):\n",
    "\n",
    "    nums = ['0','1','2','3','4','5','6','7','8','9','10','11','12','13','14','15','16','17','18','19','20','30','40','50','60','70','80','90','100', '1000']\n",
    "    num_words = ['nul', 'een','twee', 'drie','vier','vyf', 'ses','sewe', 'agt', 'nege','tien','elf','twaalf','dertien','veertien','vyftien','sestien','sewentien', 'agtien', 'negentien', \n",
    "            'twintig','dertig', 'veertig', 'vyftig', 'sestig', 'sewentig', 'tagtig', 'negentig', 'honderd', 'duisend']\n",
    "\n",
    "    data_file = open(data_file_name, 'r')\n",
    "    lines_data = data_file.readlines()\n",
    "    data_file.close()\n",
    "\n",
    "\n",
    "    #Converting to lowercase\n",
    "    for i in range(0, len(lines_data)):\n",
    "        # lines_data[i] = lines_data[i].split()\n",
    "        lines_data[i] = split_nums_letters(lines_data[i])\n",
    "        \n",
    "        for j in range(0, len(lines_data[i])):\n",
    "            lines_data[i][j] = lines_data[i][j].lower()\n",
    "            lines_data[i][j] = lines_data[i][j].replace(\"-\", \" \")\n",
    "            lines_data[i][j] = lines_data[i][j].replace(\"+\", \" \")\n",
    "            lines_data[i][j] = lines_data[i][j].replace(\"%\", \"persent\")\n",
    "            lines_data[i][j] = lines_data[i][j].replace('\"', '')\n",
    "            lines_data[i][j] = lines_data[i][j].replace('\\'', \"\")\n",
    "            lines_data[i][j] = lines_data[i][j].replace(\"!\", \"\")\n",
    "            lines_data[i][j] = lines_data[i][j].replace(\"?\", \"\")\n",
    "            lines_data[i][j] = lines_data[i][j].replace(\".\", \"\")\n",
    "            lines_data[i][j] = lines_data[i][j].replace(\",\", \"\")\n",
    "            if j > 0: lines_data[i][j] = lines_data[i][j].replace(\"_\", \"\")\n",
    "            for k in nums:\n",
    "                if lines_data[i][j] == k:\n",
    "                    index = nums.index(k)\n",
    "                    lines_data[i][j] = num_words[index]\n",
    "                    break\n",
    "                 \n",
    "\n",
    "    with open(nonums_data_file_name, 'w') as file:\n",
    "        for i in range(0, len(lines_data)):\n",
    "            new_line = \" \".join([word for word in lines_data[i][1:]])\n",
    "            file.write('%s \\n' %new_line)\n",
    "    file.close()\n",
    "\n",
    "def see_all_unique_words(data_file_name):\n",
    "        \n",
    "    def replace_numbers(stra):\n",
    "\n",
    "        return stra\n",
    "\n",
    "    nums = ['0','1','2','3','4','5','6','7','8','9','10','11','12','13','14','15','16','17','18','19','20','30','40','50','60','70','80','90','100']\n",
    "    num_words = ['nul', 'een','twee', 'drie','vier','vyf', 'ses','sewe', 'agt', 'nege','tien','elf','twaalf','dertien','veertien','vyftien','sestien','sewentien', 'agtien', 'negentien', \n",
    "            'twintig','dertig', 'veertig', 'vyftig', 'sestig', 'sewentig', 'tagtig', 'negentig', 'een honderd']\n",
    "\n",
    "    data_file = open(data_file_name, 'r')\n",
    "    lines_data = data_file.readlines()\n",
    "    data_file.close()\n",
    "\n",
    "\n",
    "    #Converting to lowercase\n",
    "    for i in range(0, len(lines_data)):\n",
    "        lines_data[i] = lines_data[i].split()\n",
    "        for j in range(0, len(lines_data[i])):\n",
    "            lines_data[i][j] = lines_data[i][j].lower()\n",
    "            for k in nums:\n",
    "                if lines_data[i][j] == k:\n",
    "                    index = nums.index(k)\n",
    "                    lines_data[i][j] = num_words[index]\n",
    "                    break\n",
    "\n",
    "    lines_data_flattened = [i for j in lines_data for i in j]\n",
    "    print(len(lines_data_flattened))               \n",
    "\n",
    "    unique = set(lines_data_flattened)\n",
    "    list = sorted(unique)\n",
    "    print(len(list))\n",
    "    print(list)  \n",
    "\n",
    "preprocess_data(\"TTScorpora.tsv\", \"nowordsfile\")\n",
    "see_all_unique_words(\"nowordsfile\")\n"
   ]
  },
  {
   "cell_type": "code",
   "execution_count": 128,
   "metadata": {},
   "outputs": [
    {
     "name": "stdout",
     "output_type": "stream",
     "text": [
      "5\n"
     ]
    }
   ],
   "source": [
    "print(5%10)"
   ]
  },
  {
   "cell_type": "code",
   "execution_count": 129,
   "metadata": {},
   "outputs": [
    {
     "name": "stdout",
     "output_type": "stream",
     "text": [
      "['twee', '10', '']\n",
      "True\n",
      "['10']\n"
     ]
    }
   ],
   "source": [
    "import re\n",
    "a = \"twee10\"\n",
    "b = re.split('(\\d+)', a)\n",
    "print(b)\n",
    "nums = ['0','1','2','3','4','5','6','7','8','9','10','11','12','13','14','15','16','17','18','19','20','30','40','50','60','70','80','90','100']\n",
    "num_words = ['nul','twee', 'drie','vier', 'ses','sewe', 'agt', 'nege','tien','elf','twaalf','dertien','veertien','vyftien','sestien','sewentien', 'agtien', 'negentien', \n",
    "'twintig','dertig', 'veertig', 'vyftig', 'sestig', 'sewentig', 'tagtig', 'negentig', 'een honderd']\n",
    "contained = [a for a in b if a in nums]\n",
    "if contained: print(\"True\")\n",
    "print(contained)"
   ]
  },
  {
   "cell_type": "code",
   "execution_count": 130,
   "metadata": {},
   "outputs": [
    {
     "name": "stdout",
     "output_type": "stream",
     "text": [
      "True\n",
      "True\n"
     ]
    }
   ],
   "source": [
    "from curses.ascii import isdigit\n",
    "\n",
    "\n",
    "a = ['12-8', '120', '121']\n",
    "for i in a:\n",
    "    if i.isdigit(): print(True)"
   ]
  }
 ],
 "metadata": {
  "kernelspec": {
   "display_name": "Python 3.8.10 64-bit",
   "language": "python",
   "name": "python3"
  },
  "language_info": {
   "codemirror_mode": {
    "name": "ipython",
    "version": 3
   },
   "file_extension": ".py",
   "mimetype": "text/x-python",
   "name": "python",
   "nbconvert_exporter": "python",
   "pygments_lexer": "ipython3",
   "version": "3.8.10"
  },
  "orig_nbformat": 4,
  "vscode": {
   "interpreter": {
    "hash": "916dbcbb3f70747c44a77c7bcd40155683ae19c65e1c03b4aa3499c5328201f1"
   }
  }
 },
 "nbformat": 4,
 "nbformat_minor": 2
}
